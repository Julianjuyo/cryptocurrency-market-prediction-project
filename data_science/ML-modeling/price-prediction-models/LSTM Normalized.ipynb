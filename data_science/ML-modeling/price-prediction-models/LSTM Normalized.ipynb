{
 "cells": [
  {
   "cell_type": "code",
   "execution_count": 1,
   "id": "d69e55b9-97c6-4619-b578-7216310b186d",
   "metadata": {},
   "outputs": [
    {
     "name": "stderr",
     "output_type": "stream",
     "text": [
      "2023-04-16 20:10:33.859297: I tensorflow/tsl/cuda/cudart_stub.cc:28] Could not find cuda drivers on your machine, GPU will not be used.\n",
      "2023-04-16 20:10:33.923224: I tensorflow/tsl/cuda/cudart_stub.cc:28] Could not find cuda drivers on your machine, GPU will not be used.\n",
      "2023-04-16 20:10:33.924501: I tensorflow/core/platform/cpu_feature_guard.cc:182] This TensorFlow binary is optimized to use available CPU instructions in performance-critical operations.\n",
      "To enable the following instructions: AVX2 FMA, in other operations, rebuild TensorFlow with the appropriate compiler flags.\n",
      "2023-04-16 20:10:34.856836: W tensorflow/compiler/tf2tensorrt/utils/py_utils.cc:38] TF-TRT Warning: Could not find TensorRT\n"
     ]
    }
   ],
   "source": [
    "import pandas as pd\n",
    "from sklearn.preprocessing import Normalizer, MinMaxScaler\n",
    "from sklearn.compose import ColumnTransformer\n",
    "import keras\n",
    "\n",
    "import numpy as np\n",
    "import tensorflow as tf\n",
    "from tensorflow import keras\n",
    "from tensorflow.keras import layers\n",
    "from matplotlib import pyplot as plt\n",
    "import os\n",
    "\n",
    "import math\n",
    "\n",
    "\n",
    "from tensorflow.keras.utils import Sequence\n",
    "from sklearn.preprocessing import MinMaxScaler\n",
    "from sklearn.metrics import mean_squared_error\n",
    "\n",
    "import datetime as dt\n",
    "\n",
    "import warnings\n",
    "warnings.filterwarnings('ignore')\n",
    "tf.compat.v1.logging.set_verbosity(tf.compat.v1.logging.ERROR)  # turn off deprecation warnings\n",
    "os.environ['TF_CPP_MIN_LOG_LEVEL'] = '2'\n"
   ]
  },
  {
   "cell_type": "markdown",
   "id": "b69bdf13-788a-45ae-9349-855ab869aad6",
   "metadata": {},
   "source": [
    "# Prepare Data"
   ]
  },
  {
   "cell_type": "code",
   "execution_count": 2,
   "id": "de27cb5d-3c93-4fc4-8f70-0236832c6b93",
   "metadata": {},
   "outputs": [
    {
     "data": {
      "text/html": [
       "<div>\n",
       "<style scoped>\n",
       "    .dataframe tbody tr th:only-of-type {\n",
       "        vertical-align: middle;\n",
       "    }\n",
       "\n",
       "    .dataframe tbody tr th {\n",
       "        vertical-align: top;\n",
       "    }\n",
       "\n",
       "    .dataframe thead th {\n",
       "        text-align: right;\n",
       "    }\n",
       "</style>\n",
       "<table border=\"1\" class=\"dataframe\">\n",
       "  <thead>\n",
       "    <tr style=\"text-align: right;\">\n",
       "      <th></th>\n",
       "      <th>open</th>\n",
       "      <th>high</th>\n",
       "      <th>low</th>\n",
       "      <th>close</th>\n",
       "      <th>volume</th>\n",
       "      <th>close_time</th>\n",
       "      <th>qav</th>\n",
       "      <th>num_trades</th>\n",
       "      <th>taker_base_vol</th>\n",
       "      <th>taker_quote_vol</th>\n",
       "      <th>...</th>\n",
       "      <th>vi_pos</th>\n",
       "      <th>vi_neg</th>\n",
       "      <th>ALU</th>\n",
       "      <th>XCU</th>\n",
       "      <th>BRENTOIL</th>\n",
       "      <th>NG</th>\n",
       "      <th>XAU</th>\n",
       "      <th>IRD</th>\n",
       "      <th>ETHANOL</th>\n",
       "      <th>CORN</th>\n",
       "    </tr>\n",
       "  </thead>\n",
       "  <tbody>\n",
       "    <tr>\n",
       "      <th>0</th>\n",
       "      <td>47224.54</td>\n",
       "      <td>47231.61</td>\n",
       "      <td>47215.29</td>\n",
       "      <td>47227.56</td>\n",
       "      <td>12.33375</td>\n",
       "      <td>1641121139999</td>\n",
       "      <td>5.824030e+05</td>\n",
       "      <td>458</td>\n",
       "      <td>9.72943</td>\n",
       "      <td>459425.952954</td>\n",
       "      <td>...</td>\n",
       "      <td>0.916481</td>\n",
       "      <td>1.074392</td>\n",
       "      <td>0.087934</td>\n",
       "      <td>0.278236</td>\n",
       "      <td>77.715496</td>\n",
       "      <td>3.728471</td>\n",
       "      <td>0.000547</td>\n",
       "      <td>4146.516926</td>\n",
       "      <td>2.136295</td>\n",
       "      <td>5.925674</td>\n",
       "    </tr>\n",
       "    <tr>\n",
       "      <th>1</th>\n",
       "      <td>47227.57</td>\n",
       "      <td>47227.57</td>\n",
       "      <td>47140.30</td>\n",
       "      <td>47188.89</td>\n",
       "      <td>36.98943</td>\n",
       "      <td>1641121199999</td>\n",
       "      <td>1.745224e+06</td>\n",
       "      <td>895</td>\n",
       "      <td>10.47851</td>\n",
       "      <td>494227.783150</td>\n",
       "      <td>...</td>\n",
       "      <td>0.832151</td>\n",
       "      <td>1.079854</td>\n",
       "      <td>0.087934</td>\n",
       "      <td>0.278236</td>\n",
       "      <td>77.715496</td>\n",
       "      <td>3.728471</td>\n",
       "      <td>0.000547</td>\n",
       "      <td>4146.516926</td>\n",
       "      <td>2.136295</td>\n",
       "      <td>5.925674</td>\n",
       "    </tr>\n",
       "    <tr>\n",
       "      <th>2</th>\n",
       "      <td>47188.88</td>\n",
       "      <td>47188.89</td>\n",
       "      <td>47159.57</td>\n",
       "      <td>47163.75</td>\n",
       "      <td>5.48303</td>\n",
       "      <td>1641121259999</td>\n",
       "      <td>2.586577e+05</td>\n",
       "      <td>457</td>\n",
       "      <td>2.32043</td>\n",
       "      <td>109462.466918</td>\n",
       "      <td>...</td>\n",
       "      <td>0.855032</td>\n",
       "      <td>1.123661</td>\n",
       "      <td>0.087934</td>\n",
       "      <td>0.278236</td>\n",
       "      <td>77.715496</td>\n",
       "      <td>3.728471</td>\n",
       "      <td>0.000547</td>\n",
       "      <td>4146.516926</td>\n",
       "      <td>2.136295</td>\n",
       "      <td>5.925674</td>\n",
       "    </tr>\n",
       "    <tr>\n",
       "      <th>3</th>\n",
       "      <td>47163.75</td>\n",
       "      <td>47200.00</td>\n",
       "      <td>47162.97</td>\n",
       "      <td>47199.99</td>\n",
       "      <td>9.95895</td>\n",
       "      <td>1641121319999</td>\n",
       "      <td>4.698914e+05</td>\n",
       "      <td>422</td>\n",
       "      <td>5.53526</td>\n",
       "      <td>261162.816818</td>\n",
       "      <td>...</td>\n",
       "      <td>0.869207</td>\n",
       "      <td>1.091204</td>\n",
       "      <td>0.087934</td>\n",
       "      <td>0.278236</td>\n",
       "      <td>77.715496</td>\n",
       "      <td>3.728471</td>\n",
       "      <td>0.000547</td>\n",
       "      <td>4146.516926</td>\n",
       "      <td>2.136295</td>\n",
       "      <td>5.925674</td>\n",
       "    </tr>\n",
       "    <tr>\n",
       "      <th>4</th>\n",
       "      <td>47199.99</td>\n",
       "      <td>47221.10</td>\n",
       "      <td>47196.78</td>\n",
       "      <td>47216.96</td>\n",
       "      <td>10.41996</td>\n",
       "      <td>1641121379999</td>\n",
       "      <td>4.919137e+05</td>\n",
       "      <td>482</td>\n",
       "      <td>4.60476</td>\n",
       "      <td>217382.281408</td>\n",
       "      <td>...</td>\n",
       "      <td>0.908495</td>\n",
       "      <td>1.077247</td>\n",
       "      <td>0.087934</td>\n",
       "      <td>0.278236</td>\n",
       "      <td>77.715496</td>\n",
       "      <td>3.728471</td>\n",
       "      <td>0.000547</td>\n",
       "      <td>4146.516926</td>\n",
       "      <td>2.136295</td>\n",
       "      <td>5.925674</td>\n",
       "    </tr>\n",
       "    <tr>\n",
       "      <th>...</th>\n",
       "      <td>...</td>\n",
       "      <td>...</td>\n",
       "      <td>...</td>\n",
       "      <td>...</td>\n",
       "      <td>...</td>\n",
       "      <td>...</td>\n",
       "      <td>...</td>\n",
       "      <td>...</td>\n",
       "      <td>...</td>\n",
       "      <td>...</td>\n",
       "      <td>...</td>\n",
       "      <td>...</td>\n",
       "      <td>...</td>\n",
       "      <td>...</td>\n",
       "      <td>...</td>\n",
       "      <td>...</td>\n",
       "      <td>...</td>\n",
       "      <td>...</td>\n",
       "      <td>...</td>\n",
       "      <td>...</td>\n",
       "      <td>...</td>\n",
       "    </tr>\n",
       "    <tr>\n",
       "      <th>661279</th>\n",
       "      <td>28025.70</td>\n",
       "      <td>28025.70</td>\n",
       "      <td>28014.49</td>\n",
       "      <td>28022.37</td>\n",
       "      <td>9.24773</td>\n",
       "      <td>1680809579999</td>\n",
       "      <td>2.591298e+05</td>\n",
       "      <td>500</td>\n",
       "      <td>5.48468</td>\n",
       "      <td>153679.496830</td>\n",
       "      <td>...</td>\n",
       "      <td>1.227767</td>\n",
       "      <td>0.770152</td>\n",
       "      <td>0.073823</td>\n",
       "      <td>0.248594</td>\n",
       "      <td>84.940000</td>\n",
       "      <td>2.094000</td>\n",
       "      <td>0.000495</td>\n",
       "      <td>4600.000000</td>\n",
       "      <td>2.161000</td>\n",
       "      <td>6.537500</td>\n",
       "    </tr>\n",
       "    <tr>\n",
       "      <th>661280</th>\n",
       "      <td>28022.38</td>\n",
       "      <td>28040.00</td>\n",
       "      <td>28022.37</td>\n",
       "      <td>28039.99</td>\n",
       "      <td>24.89461</td>\n",
       "      <td>1680809639999</td>\n",
       "      <td>6.978784e+05</td>\n",
       "      <td>783</td>\n",
       "      <td>20.72318</td>\n",
       "      <td>580932.984723</td>\n",
       "      <td>...</td>\n",
       "      <td>1.247251</td>\n",
       "      <td>0.742413</td>\n",
       "      <td>0.073823</td>\n",
       "      <td>0.248594</td>\n",
       "      <td>84.940000</td>\n",
       "      <td>2.094000</td>\n",
       "      <td>0.000495</td>\n",
       "      <td>4600.000000</td>\n",
       "      <td>2.161000</td>\n",
       "      <td>6.537500</td>\n",
       "    </tr>\n",
       "    <tr>\n",
       "      <th>661281</th>\n",
       "      <td>28040.00</td>\n",
       "      <td>28040.00</td>\n",
       "      <td>28026.30</td>\n",
       "      <td>28026.31</td>\n",
       "      <td>12.50605</td>\n",
       "      <td>1680809699999</td>\n",
       "      <td>3.505753e+05</td>\n",
       "      <td>473</td>\n",
       "      <td>3.56029</td>\n",
       "      <td>99790.897540</td>\n",
       "      <td>...</td>\n",
       "      <td>1.227910</td>\n",
       "      <td>0.786317</td>\n",
       "      <td>0.073823</td>\n",
       "      <td>0.248594</td>\n",
       "      <td>84.940000</td>\n",
       "      <td>2.094000</td>\n",
       "      <td>0.000495</td>\n",
       "      <td>4600.000000</td>\n",
       "      <td>2.161000</td>\n",
       "      <td>6.537500</td>\n",
       "    </tr>\n",
       "    <tr>\n",
       "      <th>661282</th>\n",
       "      <td>28026.31</td>\n",
       "      <td>28046.22</td>\n",
       "      <td>28026.30</td>\n",
       "      <td>28039.43</td>\n",
       "      <td>36.30931</td>\n",
       "      <td>1680809759999</td>\n",
       "      <td>1.018126e+06</td>\n",
       "      <td>762</td>\n",
       "      <td>19.78056</td>\n",
       "      <td>554594.460956</td>\n",
       "      <td>...</td>\n",
       "      <td>1.152489</td>\n",
       "      <td>0.802175</td>\n",
       "      <td>0.073823</td>\n",
       "      <td>0.248594</td>\n",
       "      <td>84.940000</td>\n",
       "      <td>2.094000</td>\n",
       "      <td>0.000495</td>\n",
       "      <td>4600.000000</td>\n",
       "      <td>2.161000</td>\n",
       "      <td>6.537500</td>\n",
       "    </tr>\n",
       "    <tr>\n",
       "      <th>661283</th>\n",
       "      <td>28039.43</td>\n",
       "      <td>28040.86</td>\n",
       "      <td>28034.41</td>\n",
       "      <td>28034.42</td>\n",
       "      <td>10.42675</td>\n",
       "      <td>1680809819999</td>\n",
       "      <td>2.923437e+05</td>\n",
       "      <td>509</td>\n",
       "      <td>5.55199</td>\n",
       "      <td>155665.274377</td>\n",
       "      <td>...</td>\n",
       "      <td>1.210276</td>\n",
       "      <td>0.810345</td>\n",
       "      <td>0.073823</td>\n",
       "      <td>0.248594</td>\n",
       "      <td>84.940000</td>\n",
       "      <td>2.094000</td>\n",
       "      <td>0.000495</td>\n",
       "      <td>4600.000000</td>\n",
       "      <td>2.161000</td>\n",
       "      <td>6.537500</td>\n",
       "    </tr>\n",
       "  </tbody>\n",
       "</table>\n",
       "<p>661284 rows × 84 columns</p>\n",
       "</div>"
      ],
      "text/plain": [
       "            open      high       low     close    volume     close_time  \\\n",
       "0       47224.54  47231.61  47215.29  47227.56  12.33375  1641121139999   \n",
       "1       47227.57  47227.57  47140.30  47188.89  36.98943  1641121199999   \n",
       "2       47188.88  47188.89  47159.57  47163.75   5.48303  1641121259999   \n",
       "3       47163.75  47200.00  47162.97  47199.99   9.95895  1641121319999   \n",
       "4       47199.99  47221.10  47196.78  47216.96  10.41996  1641121379999   \n",
       "...          ...       ...       ...       ...       ...            ...   \n",
       "661279  28025.70  28025.70  28014.49  28022.37   9.24773  1680809579999   \n",
       "661280  28022.38  28040.00  28022.37  28039.99  24.89461  1680809639999   \n",
       "661281  28040.00  28040.00  28026.30  28026.31  12.50605  1680809699999   \n",
       "661282  28026.31  28046.22  28026.30  28039.43  36.30931  1680809759999   \n",
       "661283  28039.43  28040.86  28034.41  28034.42  10.42675  1680809819999   \n",
       "\n",
       "                 qav  num_trades  taker_base_vol  taker_quote_vol  ...  \\\n",
       "0       5.824030e+05         458         9.72943    459425.952954  ...   \n",
       "1       1.745224e+06         895        10.47851    494227.783150  ...   \n",
       "2       2.586577e+05         457         2.32043    109462.466918  ...   \n",
       "3       4.698914e+05         422         5.53526    261162.816818  ...   \n",
       "4       4.919137e+05         482         4.60476    217382.281408  ...   \n",
       "...              ...         ...             ...              ...  ...   \n",
       "661279  2.591298e+05         500         5.48468    153679.496830  ...   \n",
       "661280  6.978784e+05         783        20.72318    580932.984723  ...   \n",
       "661281  3.505753e+05         473         3.56029     99790.897540  ...   \n",
       "661282  1.018126e+06         762        19.78056    554594.460956  ...   \n",
       "661283  2.923437e+05         509         5.55199    155665.274377  ...   \n",
       "\n",
       "          vi_pos    vi_neg       ALU       XCU   BRENTOIL        NG       XAU  \\\n",
       "0       0.916481  1.074392  0.087934  0.278236  77.715496  3.728471  0.000547   \n",
       "1       0.832151  1.079854  0.087934  0.278236  77.715496  3.728471  0.000547   \n",
       "2       0.855032  1.123661  0.087934  0.278236  77.715496  3.728471  0.000547   \n",
       "3       0.869207  1.091204  0.087934  0.278236  77.715496  3.728471  0.000547   \n",
       "4       0.908495  1.077247  0.087934  0.278236  77.715496  3.728471  0.000547   \n",
       "...          ...       ...       ...       ...        ...       ...       ...   \n",
       "661279  1.227767  0.770152  0.073823  0.248594  84.940000  2.094000  0.000495   \n",
       "661280  1.247251  0.742413  0.073823  0.248594  84.940000  2.094000  0.000495   \n",
       "661281  1.227910  0.786317  0.073823  0.248594  84.940000  2.094000  0.000495   \n",
       "661282  1.152489  0.802175  0.073823  0.248594  84.940000  2.094000  0.000495   \n",
       "661283  1.210276  0.810345  0.073823  0.248594  84.940000  2.094000  0.000495   \n",
       "\n",
       "                IRD   ETHANOL      CORN  \n",
       "0       4146.516926  2.136295  5.925674  \n",
       "1       4146.516926  2.136295  5.925674  \n",
       "2       4146.516926  2.136295  5.925674  \n",
       "3       4146.516926  2.136295  5.925674  \n",
       "4       4146.516926  2.136295  5.925674  \n",
       "...             ...       ...       ...  \n",
       "661279  4600.000000  2.161000  6.537500  \n",
       "661280  4600.000000  2.161000  6.537500  \n",
       "661281  4600.000000  2.161000  6.537500  \n",
       "661282  4600.000000  2.161000  6.537500  \n",
       "661283  4600.000000  2.161000  6.537500  \n",
       "\n",
       "[661284 rows x 84 columns]"
      ]
     },
     "execution_count": 2,
     "metadata": {},
     "output_type": "execute_result"
    }
   ],
   "source": [
    "df = pd.read_csv('../../data/final_dataset.csv')\n",
    "df.drop(columns=['Unnamed: 0.1','Unnamed: 0','datetime'], inplace=True)\n",
    "df"
   ]
  },
  {
   "cell_type": "code",
   "execution_count": 3,
   "id": "0f6dfaab-ca5f-44c9-bd48-3d87d63cb3d1",
   "metadata": {},
   "outputs": [],
   "source": [
    "scaler = Normalizer()\n",
    "#scaler = MinMaxScaler()\n",
    "\n",
    "\n",
    "# Fit the scaler on your dataframe (let's say it's called df)\n",
    "df_normalized = scaler.fit_transform(df)\n",
    "\n",
    "# Convert the normalized data back to a dataframe\n",
    "df_normalized = pd.DataFrame(df_normalized, columns=df.columns)"
   ]
  },
  {
   "cell_type": "code",
   "execution_count": 4,
   "id": "43afe18c-7dfc-4da9-9260-e9d44df91dda",
   "metadata": {},
   "outputs": [
    {
     "name": "stdout",
     "output_type": "stream",
     "text": [
      "<class 'numpy.ndarray'>\n",
      "(661284, 84)\n",
      "(661284, 1)\n"
     ]
    }
   ],
   "source": [
    "\n",
    "# Convert the DataFrame to a NumPy array\n",
    "raw_data = df_normalized.values\n",
    "close = df_normalized['close'].values\n",
    "close = close.reshape((len(close),1))\n",
    "# Display the NumPy array\n",
    "print(type(raw_data))\n",
    "print(raw_data.shape)\n",
    "print(close.shape)"
   ]
  },
  {
   "cell_type": "markdown",
   "id": "9a3cff0c-9fe4-45d8-a4dc-96009de11ced",
   "metadata": {},
   "source": [
    "# Prepare Model"
   ]
  },
  {
   "cell_type": "code",
   "execution_count": 5,
   "id": "a5efe0c9-3bd6-489e-9608-572dce576afa",
   "metadata": {},
   "outputs": [
    {
     "name": "stdout",
     "output_type": "stream",
     "text": [
      "Prep Data\n",
      "num_train_samples: 396770\n",
      "num_val_samples: 165321\n",
      "num_test_samples: 99193\n"
     ]
    }
   ],
   "source": [
    "print('Prep Data')\n",
    "num_train_samples = int(0.6 * len(raw_data))\n",
    "num_val_samples = int(0.25 * len(raw_data))\n",
    "num_test_samples = len(raw_data) - num_train_samples - num_val_samples\n",
    "print(\"num_train_samples:\", num_train_samples)\n",
    "print(\"num_val_samples:\", num_val_samples)\n",
    "print(\"num_test_samples:\", num_test_samples)\n"
   ]
  },
  {
   "cell_type": "code",
   "execution_count": 6,
   "id": "43acc9c6-20f6-48a4-9631-dd81768b4e3f",
   "metadata": {},
   "outputs": [
    {
     "name": "stdout",
     "output_type": "stream",
     "text": [
      "The timeseries will consist of batches containing 32 sequences of 180 samples.\n",
      "Finally our target is 360 timesteps in the future, and will have data from 3600 timesteps in the past\n"
     ]
    }
   ],
   "source": [
    "# Set Parameters\n",
    "\n",
    "# delay: time in future that will be predicted\n",
    "delay = 6 * 60\n",
    "\n",
    "\n",
    "# sampling rate: period between timesteps within the sequence\n",
    "# Sequence with rate=1 : t1,t2...tn\n",
    "# Sequence with rate=3 : t1,t3...tn*3\n",
    "sampling_rate = 20\n",
    "\n",
    "# sequence length: sequence lenght of each sample\n",
    "half_day = 12 * 60\n",
    "sequence_length = int(5 * half_day / sampling_rate)\n",
    "\n",
    "\n",
    "# sequence_stride: period between sequences\n",
    "# First sequence starts at t0\n",
    "# Second sequence will start at t1 with sequence_stride=1 or at t5 with sequence_stride=5\n",
    "sequence_stride = 5\n",
    "\n",
    "#batch_size: Number of timeseries samples in each batch (except maybe the last one). \n",
    "#If None, the data will not be batched (the dataset will yield individual samples).\n",
    "# Huge impact in performance.\n",
    "# Tip, should be multiple of 8\n",
    "batch_size = 32\n",
    "\n",
    "# Understanding our parameters\n",
    "msg = f\"The timeseries will consist of batches containing {batch_size} sequences of {sequence_length} samples.\"\n",
    "\n",
    "msg += f\"\\nFinally our target is {delay} timesteps in the future, and will have data from {sequence_length * sampling_rate} timesteps in the past\"\n",
    "print(msg)"
   ]
  },
  {
   "cell_type": "code",
   "execution_count": 7,
   "id": "0319e6e4-797a-47f5-b83d-c51e26ae7134",
   "metadata": {},
   "outputs": [
    {
     "name": "stdout",
     "output_type": "stream",
     "text": [
      "Done Train\n",
      "Done Validation\n",
      "Done Test\n"
     ]
    }
   ],
   "source": [
    "train_dataset = keras.preprocessing.timeseries_dataset_from_array(\n",
    "                        raw_data[:-delay],\n",
    "                    targets=close[delay:],\n",
    "                    sampling_rate=sampling_rate,\n",
    "                    sequence_stride=sequence_stride,\n",
    "                    sequence_length=sequence_length,\n",
    "                    shuffle=False, # Shouldn't the shuffle be set to 0?\n",
    "                    seed=33,\n",
    "                    batch_size=batch_size,\n",
    "                    start_index=0,\n",
    "                    end_index=num_train_samples)\n",
    "\n",
    "print(\"Done Train\")\n",
    "\n",
    "val_dataset = keras.preprocessing.timeseries_dataset_from_array(\n",
    "                    raw_data[:-delay],\n",
    "                    targets=close[delay:],\n",
    "                    sampling_rate=sampling_rate,\n",
    "                    sequence_stride=sequence_stride,\n",
    "                    sequence_length=sequence_length,\n",
    "                    shuffle=False,\n",
    "                    seed=33,\n",
    "                    batch_size=batch_size,\n",
    "                    start_index=num_train_samples,\n",
    "                    end_index=num_train_samples + num_val_samples)\n",
    "\n",
    "print(\"Done Validation\")      \n",
    "\n",
    "test_dataset = keras.preprocessing.timeseries_dataset_from_array(\n",
    "                    raw_data[:-delay],\n",
    "                    targets=close[delay:],\n",
    "                    sampling_rate=sampling_rate,\n",
    "                    sequence_stride=sequence_stride,\n",
    "                    sequence_length=sequence_length,\n",
    "                    shuffle=False,\n",
    "                    seed=33,\n",
    "                    batch_size=batch_size,\n",
    "                    start_index=num_train_samples + num_val_samples)\n",
    "\n",
    "print(\"Done Test\")"
   ]
  },
  {
   "cell_type": "markdown",
   "id": "f68cd9fb-c122-487e-bd9d-8ceee07c1962",
   "metadata": {},
   "source": [
    "# Build and Train Model"
   ]
  },
  {
   "cell_type": "code",
   "execution_count": null,
   "id": "36bb9771-740c-44b4-81d0-9a4cfa6d6afc",
   "metadata": {},
   "outputs": [],
   "source": [
    "inputs = keras.Input(shape=(sequence_length, raw_data.shape[-1]))\n",
    "x = layers.LSTM(32)(inputs)\n",
    "\n",
    "\n",
    "outputs = layers.Dense(1)(x)\n",
    "model = keras.Model(inputs, outputs)\n",
    "\n",
    "callbacks = [\n",
    "    keras.callbacks.ModelCheckpoint(\"models/lstm\",\n",
    "   save_best_only=True) \n",
    "]\n",
    "\n",
    "model.compile(optimizer=\"rmsprop\", loss=\"mse\", metrics=[\"mae\"])\n",
    "\n",
    "history = model.fit(train_dataset,\n",
    "                    epochs=10,\n",
    "                    validation_data=val_dataset,\n",
    "                    callbacks=callbacks)\n"
   ]
  },
  {
   "cell_type": "code",
   "execution_count": 10,
   "id": "8533fdee-3871-4102-a4f4-d21436354799",
   "metadata": {},
   "outputs": [],
   "source": [
    "# Save the trained model to a file\n",
    "model.save('lstm_model_1.h5')"
   ]
  },
  {
   "cell_type": "markdown",
   "id": "9a03600d-e30a-4b04-be2f-b8c8ae8c8ce4",
   "metadata": {},
   "source": [
    "# Understanding the Model"
   ]
  },
  {
   "cell_type": "code",
   "execution_count": 11,
   "id": "6ce87b11-34f4-41d9-a2a8-3b604de0aeca",
   "metadata": {},
   "outputs": [
    {
     "data": {
      "image/png": "[encoded data removed]",
      "text/plain": [
       "<Figure size 640x480 with 1 Axes>"
      ]
     },
     "metadata": {},
     "output_type": "display_data"
    }
   ],
   "source": [
    "import matplotlib.pyplot as plt\n",
    "loss = history.history[\"mae\"]\n",
    "val_loss = history.history[\"val_mae\"]\n",
    "epochs = range(1, len(loss) + 1)\n",
    "plt.figure()\n",
    "plt.plot(epochs, loss, \"bo\", label=\"Training MAE\")\n",
    "plt.plot(epochs, val_loss, \"b\", label=\"Validation MAE\")\n",
    "plt.title(\"Training and validation MAE\")\n",
    "plt.legend()\n",
    "plt.show()"
   ]
  },
  {
   "cell_type": "markdown",
   "id": "b6d79e54-e7b0-48cf-82d2-e8fe98d094b5",
   "metadata": {},
   "source": [
    "# Looking at the data"
   ]
  },
  {
   "cell_type": "code",
   "execution_count": 28,
   "id": "d92f2aeb-45ac-4430-8618-7c82e2169748",
   "metadata": {},
   "outputs": [],
   "source": [
    "pred_dataset = keras.preprocessing.timeseries_dataset_from_array(\n",
    "                        raw_data[:-delay],\n",
    "                    targets=close[delay:],\n",
    "                    sampling_rate=1,\n",
    "                    sequence_stride=1,\n",
    "                    sequence_length=180,\n",
    "                    shuffle=False, # Shouldn't the shuffle be set to 0?\n",
    "                    seed=33,\n",
    "                    batch_size=32,\n",
    "                    start_index=0,\n",
    "                    )\n"
   ]
  },
  {
   "cell_type": "code",
   "execution_count": 30,
   "id": "1039bd51-968f-471c-a681-7737073553fe",
   "metadata": {},
   "outputs": [
    {
     "name": "stdout",
     "output_type": "stream",
     "text": [
      "    1/20649 [..............................] - ETA: 3:19:45"
     ]
    },
    {
     "name": "stderr",
     "output_type": "stream",
     "text": [
      "2023-04-16 20:46:02.201590: I tensorflow/core/common_runtime/executor.cc:1197] [/device:CPU:0] (DEBUG INFO) Executor start aborting (this does not indicate an error and you can ignore this message): INVALID_ARGUMENT: You must feed a value for placeholder tensor 'Placeholder/_28' with dtype int32 and shape [660745]\n",
      "\t [[{{node Placeholder/_28}}]]\n",
      "2023-04-16 20:46:02.202169: I tensorflow/core/common_runtime/executor.cc:1197] [/device:CPU:0] (DEBUG INFO) Executor start aborting (this does not indicate an error and you can ignore this message): INVALID_ARGUMENT: You must feed a value for placeholder tensor 'Placeholder/_28' with dtype int32 and shape [660745]\n",
      "\t [[{{node Placeholder/_28}}]]\n"
     ]
    },
    {
     "name": "stdout",
     "output_type": "stream",
     "text": [
      "20649/20649 [==============================] - 343s 17ms/step\n"
     ]
    }
   ],
   "source": [
    "\n",
    "\n",
    "predictions = model.predict(pred_dataset)"
   ]
  },
  {
   "cell_type": "code",
   "execution_count": 36,
   "id": "99810d71-b34c-401f-a2ab-fd3b9fbf60d1",
   "metadata": {},
   "outputs": [
    {
     "name": "stdout",
     "output_type": "stream",
     "text": [
      "660745\n",
      "660745\n"
     ]
    }
   ],
   "source": [
    "print(len(predictions) )\n",
    "print(len(close[:660745]))\n"
   ]
  },
  {
   "cell_type": "code",
   "execution_count": 40,
   "id": "bbc603f3-68d5-43bf-b302-7ad74afbefc5",
   "metadata": {},
   "outputs": [
    {
     "data": {
      "image/png": "[encoded data removed]",
      "text/plain": [
       "<Figure size 640x480 with 1 Axes>"
      ]
     },
     "metadata": {},
     "output_type": "display_data"
    }
   ],
   "source": [
    "# Generate the predictions using your model and store it in a variable called 'predictions'\n",
    "\n",
    "# Plot the actual data\n",
    "plt.plot(range(len(predictions)), close[:660745], label='Actual Data')\n",
    "\n",
    "# Plot the predicted data\n",
    "plt.plot(range(len(predictions)), predictions, label='Predicted Data')\n",
    "\n",
    "# Add labels, title, and legend\n",
    "plt.xlabel('X-axis Label')\n",
    "plt.ylabel('Y-axis Label')\n",
    "plt.title('Actual vs Predicted Data')\n",
    "plt.legend()\n",
    "\n",
    "# Display the plot\n",
    "plt.show()"
   ]
  },
  {
   "cell_type": "code",
   "execution_count": 12,
   "id": "6f98bd81-2d63-4561-91ff-c664038a5875",
   "metadata": {},
   "outputs": [
    {
     "data": {
      "text/plain": [
       "[<matplotlib.lines.Line2D at 0x7fd6386b94d0>]"
      ]
     },
     "execution_count": 12,
     "metadata": {},
     "output_type": "execute_result"
    },
    {
     "data": {
      "image/png": "[encoded data removed]",
      "text/plain": [
       "<Figure size 640x480 with 1 Axes>"
      ]
     },
     "metadata": {},
     "output_type": "display_data"
    }
   ],
   "source": [
    "\n",
    "\n",
    "from matplotlib import pyplot as plt\n",
    "plt.plot(range(len(close)), close)\n"
   ]
  }
 ],
 "metadata": {
  "kernelspec": {
   "display_name": "Python 3 (ipykernel)",
   "language": "python",
   "name": "python3"
  },
  "language_info": {
   "codemirror_mode": {
    "name": "ipython",
    "version": 3
   },
   "file_extension": ".py",
   "mimetype": "text/x-python",
   "name": "python",
   "nbconvert_exporter": "python",
   "pygments_lexer": "ipython3",
   "version": "3.11.0"
  }
 },
 "nbformat": 4,
 "nbformat_minor": 5
}
