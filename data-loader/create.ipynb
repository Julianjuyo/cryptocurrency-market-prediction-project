{
 "cells": [
  {
   "cell_type": "code",
   "execution_count": 20,
   "metadata": {},
   "outputs": [],
   "source": [
    "from datetime import datetime, timezone\n",
    "import pandas as pd\n",
    "import requests\n",
    "import json\n",
    "\n",
    "\n",
    "PROXIES = {\n",
    "    \n",
    "   'http': 'http://discproxy.virtual.uniandes.edu.co:443',\n",
    "}\n",
    "\n",
    "EXCHANGE_ID = \"402f5618-6a78-43ad-b4ee-44b3e65a94a7\"\n",
    "\n",
    "\n"
   ]
  },
  {
   "cell_type": "code",
   "execution_count": 27,
   "metadata": {},
   "outputs": [],
   "source": [
    "# Method to make a POST request to the specified API endpoint with a JSON payload\n",
    "def post_method(url_path, data_dict):\n",
    "    print(\"POST request to: \" + url_path)\n",
    "    # Convert the dictionary to a JSON string using the `json` module\n",
    "    json_payload = json.dumps(data_dict)\n",
    "\n",
    "    print(json_payload)\n",
    "    # try:\n",
    "    # Send the POST request with the JSON payload\n",
    "    response = requests.post(url_path, data=json_payload, proxies=PROXIES)\n",
    "\n",
    "    # Check if the request was successful\n",
    "    if response.status_code == requests.codes.created:\n",
    "        # If successful, print the response content and convert it to a Pandas DataFrame\n",
    "        print(\"created post status code: \" + str(response.status_code))\n",
    "\n",
    "        print(response.content)\n",
    "        json_data = json.loads(response.content)\n",
    "        df = pd.json_normalize(json_data)\n",
    "        return df\n",
    "    else:\n",
    "        # If unsuccessful, print the response content\n",
    "        print(\"post status code: \"+str(response.status_code))\n",
    "        print(response.content)\n",
    "\n",
    "def create_exchange(base_url, data_dict):\n",
    "    # Call the `post_method` function with the appropriate URL and data dictionary\n",
    "    print(\"Endpoint: \" + base_url + \"exchanges\")\n",
    "    resp = post_method(base_url + \"exchanges\", data_dict)\n",
    "    return resp\n",
    "# post_method(base_url + \"exchanges\", data_dict)\n",
    "    \n",
    "def create_asset(base_url,exchange_id, data_dict):\n",
    "    # Call the `post_method` function with the appropriate URL and data dictionary\n",
    "    print(\"Endpoint: \" + base_url + \"assets\")\n",
    "    resp = post_method(base_url + \"exchanges/\"+exchange_id+\"/asset\", data_dict)\n",
    "    return resp\n",
    "# post_method(base_url + \"exchanges\", data_dict)\n",
    "\n"
   ]
  },
  {
   "cell_type": "code",
   "execution_count": 33,
   "metadata": {},
   "outputs": [
    {
     "name": "stdout",
     "output_type": "stream",
     "text": [
      "Endpoint: http://172.24.100.128:5000/assets\n",
      "POST request to: http://172.24.100.128:5000/exchanges/402f5618-6a78-43ad-b4ee-44b3e65a94a7/asset\n",
      "{\"symbol\": \"ETHUSDT\", \"base_asset\": \"ETH\", \"quote_asset\": \"USDT\", \"interval\": \"day\", \"asset_type\": \"Cryptocurrency\"}\n",
      "created post status code: 201\n",
      "b'{\"base_asset\":\"ETH\",\"created_at\":\"2023-04-12T03:14:41.226535+00:00\",\"interval\":\"day\",\"exchange_id\":\"402f5618-6a78-43ad-b4ee-44b3e65a94a7\",\"updated_at\":null,\"symbol\":\"ETHUSDT\",\"quote_asset\":\"USDT\",\"asset_type\":\"Cryptocurrency\",\"id\":\"67da12e9-6fd9-4401-b16a-1c2dd589ff01\"}'\n"
     ]
    }
   ],
   "source": [
    "base_url = \"http://172.24.100.128:5000/\"\n",
    "\n",
    "dict =  {\n",
    "    \"symbol\": \"ETHUSDT\",\n",
    "    \"base_asset\": \"ETH\",\n",
    "    \"quote_asset\": \"USDT\",\n",
    "    \"interval\": \"day\",\n",
    "    \"asset_type\": \"Cryptocurrency\"\n",
    "  }\n",
    "\n",
    "\n",
    "a = create_asset(base_url,EXCHANGE_ID,dict)\n",
    "\n"
   ]
  },
  {
   "cell_type": "code",
   "execution_count": null,
   "metadata": {},
   "outputs": [],
   "source": [
    "BTCUSDT_DAY_ID = \"81d625dd-f73f-4829-a2ff-1d795fbc5b3a\"\n",
    "BTCUSDT_HOUR_ID = \"7aa396ec-8c6a-44fd-89f2-12e7f998f883\"\n",
    "BTCUSDT_MINUTE_ID = \"31deee63-e4bb-45ad-b020-8759b5c69e0f\"\n",
    "\n",
    "\n",
    "ETHUSDT_DAY_ID = \"67da12e9-6fd9-4401-b16a-1c2dd589ff01\"\n",
    "ETHUSDT_HOUR_ID = \"35515212-5467-45b4-b2e5-3ae048e482e7\"\n",
    "ETHUSDT_MINUTE_ID = \"38d4f96b-26b7-420a-a34f-912f5ad23eaf\""
   ]
  }
 ],
 "metadata": {
  "kernelspec": {
   "display_name": "env",
   "language": "python",
   "name": "python3"
  },
  "language_info": {
   "codemirror_mode": {
    "name": "ipython",
    "version": 3
   },
   "file_extension": ".py",
   "mimetype": "text/x-python",
   "name": "python",
   "nbconvert_exporter": "python",
   "pygments_lexer": "ipython3",
   "version": "3.9.12"
  },
  "orig_nbformat": 4
 },
 "nbformat": 4,
 "nbformat_minor": 2
}
