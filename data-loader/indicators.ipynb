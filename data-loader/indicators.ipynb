{
 "cells": [
  {
   "cell_type": "code",
   "execution_count": 1,
   "metadata": {},
   "outputs": [],
   "source": [
    "import datetime as dt\n",
    "import ta\n",
    "import pandas as pd\n",
    "import numpy as np\n",
    "import datetime as dt\n",
    "import requests\n",
    "import os\n",
    "import math\n",
    "\n",
    "\n",
    "import sys\n",
    "# Add 'data-loader' directory to the Python path\n",
    "sys.path.append('data-loader') \n",
    "\n",
    "from datetime import datetime\n",
    "from utils import *\n",
    "import os\n",
    "\n",
    "\n",
    "from pandasql import sqldf\n",
    "import pandas as pd\n",
    "\n"
   ]
  },
  {
   "cell_type": "markdown",
   "metadata": {},
   "source": []
  },
  {
   "cell_type": "code",
   "execution_count": 2,
   "metadata": {},
   "outputs": [],
   "source": [
    "EXCHANGE_ID = \"979f24c6-0c23-4158-aaa8-770febb76d9a\"\n",
    "\n",
    "ASSET_ID = \"276a8657-e718-4bef-a997-dd8daee9fcc4\"\n",
    "\n",
    "#To know if im in a docker enviroment or not\n",
    "ON_DOCKER = os.environ.get('ON_DOCKER', False)\n",
    "\n",
    "if ON_DOCKER:\n",
    "    base_url = \"http://fastapi:5000/\"\n",
    "else:\n",
    "    base_url = \"http://0.0.0.0:5000/\""
   ]
  },
  {
   "cell_type": "code",
   "execution_count": 3,
   "metadata": {},
   "outputs": [
    {
     "name": "stdout",
     "output_type": "stream",
     "text": [
      "get asset status code: 200\n",
      "symbol: BTCUSDT\n",
      "interval: day\n",
      "entro api_request_last_time_stamp_from_asset_id\n",
      "get las unix time status code: 200\n"
     ]
    }
   ],
   "source": [
    "asset = api_request_get_asset_from_asset_id(base_url,EXCHANGE_ID,ASSET_ID)\n",
    "\n",
    "last_timestamp , first_report  = get_last_timestamp(base_url,ASSET_ID,asset[\"interval\"].iloc[0])\n"
   ]
  },
  {
   "cell_type": "code",
   "execution_count": 4,
   "metadata": {},
   "outputs": [
    {
     "name": "stdout",
     "output_type": "stream",
     "text": [
      "entro api_request_get_prices_between_unix_time\n",
      "status code time between: 200\n",
      "get prices between status code: 200\n"
     ]
    },
    {
     "name": "stderr",
     "output_type": "stream",
     "text": [
      "/Users/julianoliverosforero/Desktop/2023-1/Tesis/cryptocurrency-market-prediction-project/data-loader/env/lib/python3.9/site-packages/ta/trend.py:780: RuntimeWarning: invalid value encountered in scalar divide\n",
      "  dip[idx] = 100 * (self._dip[idx] / value)\n",
      "/Users/julianoliverosforero/Desktop/2023-1/Tesis/cryptocurrency-market-prediction-project/data-loader/env/lib/python3.9/site-packages/ta/trend.py:785: RuntimeWarning: invalid value encountered in scalar divide\n",
      "  din[idx] = 100 * (self._din[idx] / value)\n"
     ]
    }
   ],
   "source": [
    "df_with_indicators = get_full_prices_past( base_url, ASSET_ID, asset[\"interval\"].iloc[0], last_timestamp, first_report)\n",
    "\n",
    "upload_indicators(df_with_indicators,base_url,ASSET_ID)\n"
   ]
  },
  {
   "cell_type": "code",
   "execution_count": null,
   "metadata": {},
   "outputs": [],
   "source": []
  }
 ],
 "metadata": {
  "kernelspec": {
   "display_name": "env",
   "language": "python",
   "name": "python3"
  },
  "language_info": {
   "codemirror_mode": {
    "name": "ipython",
    "version": 3
   },
   "file_extension": ".py",
   "mimetype": "text/x-python",
   "name": "python",
   "nbconvert_exporter": "python",
   "pygments_lexer": "ipython3",
   "version": "3.9.12"
  },
  "orig_nbformat": 4
 },
 "nbformat": 4,
 "nbformat_minor": 2
}
