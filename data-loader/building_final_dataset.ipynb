{
 "cells": [
  {
   "cell_type": "code",
   "execution_count": null,
   "metadata": {},
   "outputs": [],
   "source": []
  },
  {
   "cell_type": "code",
   "execution_count": null,
   "metadata": {},
   "outputs": [],
   "source": []
  },
  {
   "cell_type": "code",
   "execution_count": null,
   "metadata": {},
   "outputs": [],
   "source": []
  },
  {
   "cell_type": "markdown",
   "metadata": {},
   "source": [
    "# Build Dataset"
   ]
  },
  {
   "cell_type": "code",
   "execution_count": 4,
   "metadata": {},
   "outputs": [],
   "source": [
    "import binance_extract\n",
    "import datetime as dt\n",
    "import ta\n",
    "import pandas as pd\n",
    "import numpy as np\n",
    "import datetime as dt\n",
    "import requests\n",
    "import os\n"
   ]
  },
  {
   "cell_type": "code",
   "execution_count": 5,
   "metadata": {},
   "outputs": [
    {
     "name": "stdout",
     "output_type": "stream",
     "text": [
      "2022-01-01 00:00:00\n",
      "2023-03-25 16:27:45.195304\n",
      "I am here!\n"
     ]
    }
   ],
   "source": [
    "print(dt.datetime(2022,1,1))\n",
    "print(dt.datetime.today())\n",
    "print(binance_extract.test_var)"
   ]
  },
  {
   "attachments": {},
   "cell_type": "markdown",
   "metadata": {},
   "source": [
    "## Get Raw Data From Binance\n",
    "\n",
    "The data is stored as a CSV to avoid working in local memory when processing it."
   ]
  },
  {
   "cell_type": "code",
   "execution_count": 6,
   "metadata": {},
   "outputs": [
    {
     "name": "stdout",
     "output_type": "stream",
     "text": [
      "\n",
      "Loading data to: aux_folder/latest_minute\n",
      "DONE \n",
      "DURATION: 0 DAYS 0 HOURS 4 MINUTES 14 SECONDS.\n",
      "API CALLS: 674  ROWS: 647040\n"
     ]
    }
   ],
   "source": [
    "name = 'latest_minute'\n",
    "path = 'aux_folder/'+name\n",
    "\n",
    "\n",
    "start_date = dt.datetime(2022,1,1)\n",
    "end_date = dt.datetime.today()\n",
    "\n",
    "\n",
    "print('\\nLoading data to:',path)\n",
    "binance_extract.load_full_data_overwrite_minute(filename=path\n",
    "                                    ,symbol='BTCUSDT'\n",
    "                                    ,initial_date=start_date\n",
    "                                    ,limit_date=end_date)"
   ]
  },
  {
   "attachments": {},
   "cell_type": "markdown",
   "metadata": {},
   "source": [
    "## Get Technical Indicators\n",
    "\n",
    "We might need to come here in the future to change the parameters of some functions"
   ]
  },
  {
   "cell_type": "code",
   "execution_count": null,
   "metadata": {},
   "outputs": [
    {
     "data": {
      "text/html": [
       "<div>\n",
       "<style scoped>\n",
       "    .dataframe tbody tr th:only-of-type {\n",
       "        vertical-align: middle;\n",
       "    }\n",
       "\n",
       "    .dataframe tbody tr th {\n",
       "        vertical-align: top;\n",
       "    }\n",
       "\n",
       "    .dataframe thead th {\n",
       "        text-align: right;\n",
       "    }\n",
       "</style>\n",
       "<table border=\"1\" class=\"dataframe\">\n",
       "  <thead>\n",
       "    <tr style=\"text-align: right;\">\n",
       "      <th></th>\n",
       "      <th>datetime</th>\n",
       "      <th>open</th>\n",
       "      <th>high</th>\n",
       "      <th>low</th>\n",
       "      <th>close</th>\n",
       "      <th>volume</th>\n",
       "      <th>close_time</th>\n",
       "      <th>qav</th>\n",
       "      <th>num_trades</th>\n",
       "      <th>taker_base_vol</th>\n",
       "      <th>taker_quote_vol</th>\n",
       "      <th>ignore</th>\n",
       "    </tr>\n",
       "  </thead>\n",
       "  <tbody>\n",
       "    <tr>\n",
       "      <th>0</th>\n",
       "      <td>1641013200000</td>\n",
       "      <td>46711.05</td>\n",
       "      <td>46740.56</td>\n",
       "      <td>46699.53</td>\n",
       "      <td>46740.55</td>\n",
       "      <td>12.71732</td>\n",
       "      <td>1641013259999</td>\n",
       "      <td>5.940227e+05</td>\n",
       "      <td>502</td>\n",
       "      <td>7.52260</td>\n",
       "      <td>3.513960e+05</td>\n",
       "      <td>0</td>\n",
       "    </tr>\n",
       "    <tr>\n",
       "      <th>1</th>\n",
       "      <td>1641013260000</td>\n",
       "      <td>46740.56</td>\n",
       "      <td>46749.13</td>\n",
       "      <td>46725.72</td>\n",
       "      <td>46730.95</td>\n",
       "      <td>7.06492</td>\n",
       "      <td>1641013319999</td>\n",
       "      <td>3.302037e+05</td>\n",
       "      <td>295</td>\n",
       "      <td>3.89782</td>\n",
       "      <td>1.821856e+05</td>\n",
       "      <td>0</td>\n",
       "    </tr>\n",
       "    <tr>\n",
       "      <th>2</th>\n",
       "      <td>1641013320000</td>\n",
       "      <td>46730.95</td>\n",
       "      <td>46731.86</td>\n",
       "      <td>46715.00</td>\n",
       "      <td>46717.02</td>\n",
       "      <td>4.76270</td>\n",
       "      <td>1641013379999</td>\n",
       "      <td>2.225281e+05</td>\n",
       "      <td>328</td>\n",
       "      <td>2.28774</td>\n",
       "      <td>1.068898e+05</td>\n",
       "      <td>0</td>\n",
       "    </tr>\n",
       "    <tr>\n",
       "      <th>3</th>\n",
       "      <td>1641013380000</td>\n",
       "      <td>46717.00</td>\n",
       "      <td>46724.71</td>\n",
       "      <td>46700.25</td>\n",
       "      <td>46709.14</td>\n",
       "      <td>13.13146</td>\n",
       "      <td>1641013439999</td>\n",
       "      <td>6.134051e+05</td>\n",
       "      <td>414</td>\n",
       "      <td>4.33192</td>\n",
       "      <td>2.023523e+05</td>\n",
       "      <td>0</td>\n",
       "    </tr>\n",
       "    <tr>\n",
       "      <th>4</th>\n",
       "      <td>1641013440000</td>\n",
       "      <td>46709.14</td>\n",
       "      <td>46717.68</td>\n",
       "      <td>46696.18</td>\n",
       "      <td>46700.18</td>\n",
       "      <td>9.86818</td>\n",
       "      <td>1641013499999</td>\n",
       "      <td>4.608664e+05</td>\n",
       "      <td>471</td>\n",
       "      <td>5.39665</td>\n",
       "      <td>2.520288e+05</td>\n",
       "      <td>0</td>\n",
       "    </tr>\n",
       "    <tr>\n",
       "      <th>...</th>\n",
       "      <td>...</td>\n",
       "      <td>...</td>\n",
       "      <td>...</td>\n",
       "      <td>...</td>\n",
       "      <td>...</td>\n",
       "      <td>...</td>\n",
       "      <td>...</td>\n",
       "      <td>...</td>\n",
       "      <td>...</td>\n",
       "      <td>...</td>\n",
       "      <td>...</td>\n",
       "      <td>...</td>\n",
       "    </tr>\n",
       "    <tr>\n",
       "      <th>640695</th>\n",
       "      <td>1679454900000</td>\n",
       "      <td>28179.98</td>\n",
       "      <td>28188.47</td>\n",
       "      <td>28169.00</td>\n",
       "      <td>28173.59</td>\n",
       "      <td>303.04221</td>\n",
       "      <td>1679454959999</td>\n",
       "      <td>8.539233e+06</td>\n",
       "      <td>3823</td>\n",
       "      <td>155.62968</td>\n",
       "      <td>4.385285e+06</td>\n",
       "      <td>0</td>\n",
       "    </tr>\n",
       "    <tr>\n",
       "      <th>640696</th>\n",
       "      <td>1679454960000</td>\n",
       "      <td>28173.59</td>\n",
       "      <td>28190.00</td>\n",
       "      <td>28162.42</td>\n",
       "      <td>28190.00</td>\n",
       "      <td>244.05680</td>\n",
       "      <td>1679455019999</td>\n",
       "      <td>6.876307e+06</td>\n",
       "      <td>2946</td>\n",
       "      <td>144.70397</td>\n",
       "      <td>4.077080e+06</td>\n",
       "      <td>0</td>\n",
       "    </tr>\n",
       "    <tr>\n",
       "      <th>640697</th>\n",
       "      <td>1679455020000</td>\n",
       "      <td>28189.99</td>\n",
       "      <td>28280.00</td>\n",
       "      <td>28189.99</td>\n",
       "      <td>28244.68</td>\n",
       "      <td>809.06497</td>\n",
       "      <td>1679455079999</td>\n",
       "      <td>2.283849e+07</td>\n",
       "      <td>11095</td>\n",
       "      <td>530.72676</td>\n",
       "      <td>1.498025e+07</td>\n",
       "      <td>0</td>\n",
       "    </tr>\n",
       "    <tr>\n",
       "      <th>640698</th>\n",
       "      <td>1679455080000</td>\n",
       "      <td>28244.67</td>\n",
       "      <td>28244.68</td>\n",
       "      <td>28195.48</td>\n",
       "      <td>28200.94</td>\n",
       "      <td>262.23658</td>\n",
       "      <td>1679455139999</td>\n",
       "      <td>7.396469e+06</td>\n",
       "      <td>3189</td>\n",
       "      <td>129.91202</td>\n",
       "      <td>3.663955e+06</td>\n",
       "      <td>0</td>\n",
       "    </tr>\n",
       "    <tr>\n",
       "      <th>640699</th>\n",
       "      <td>1679455140000</td>\n",
       "      <td>28200.93</td>\n",
       "      <td>28203.57</td>\n",
       "      <td>28157.80</td>\n",
       "      <td>28163.98</td>\n",
       "      <td>230.00064</td>\n",
       "      <td>1679455199999</td>\n",
       "      <td>6.480294e+06</td>\n",
       "      <td>3150</td>\n",
       "      <td>108.61988</td>\n",
       "      <td>3.060387e+06</td>\n",
       "      <td>0</td>\n",
       "    </tr>\n",
       "  </tbody>\n",
       "</table>\n",
       "<p>640700 rows × 12 columns</p>\n",
       "</div>"
      ],
      "text/plain": [
       "             datetime      open      high       low     close     volume  \\\n",
       "0       1641013200000  46711.05  46740.56  46699.53  46740.55   12.71732   \n",
       "1       1641013260000  46740.56  46749.13  46725.72  46730.95    7.06492   \n",
       "2       1641013320000  46730.95  46731.86  46715.00  46717.02    4.76270   \n",
       "3       1641013380000  46717.00  46724.71  46700.25  46709.14   13.13146   \n",
       "4       1641013440000  46709.14  46717.68  46696.18  46700.18    9.86818   \n",
       "...               ...       ...       ...       ...       ...        ...   \n",
       "640695  1679454900000  28179.98  28188.47  28169.00  28173.59  303.04221   \n",
       "640696  1679454960000  28173.59  28190.00  28162.42  28190.00  244.05680   \n",
       "640697  1679455020000  28189.99  28280.00  28189.99  28244.68  809.06497   \n",
       "640698  1679455080000  28244.67  28244.68  28195.48  28200.94  262.23658   \n",
       "640699  1679455140000  28200.93  28203.57  28157.80  28163.98  230.00064   \n",
       "\n",
       "           close_time           qav  num_trades  taker_base_vol  \\\n",
       "0       1641013259999  5.940227e+05         502         7.52260   \n",
       "1       1641013319999  3.302037e+05         295         3.89782   \n",
       "2       1641013379999  2.225281e+05         328         2.28774   \n",
       "3       1641013439999  6.134051e+05         414         4.33192   \n",
       "4       1641013499999  4.608664e+05         471         5.39665   \n",
       "...               ...           ...         ...             ...   \n",
       "640695  1679454959999  8.539233e+06        3823       155.62968   \n",
       "640696  1679455019999  6.876307e+06        2946       144.70397   \n",
       "640697  1679455079999  2.283849e+07       11095       530.72676   \n",
       "640698  1679455139999  7.396469e+06        3189       129.91202   \n",
       "640699  1679455199999  6.480294e+06        3150       108.61988   \n",
       "\n",
       "        taker_quote_vol  ignore  \n",
       "0          3.513960e+05       0  \n",
       "1          1.821856e+05       0  \n",
       "2          1.068898e+05       0  \n",
       "3          2.023523e+05       0  \n",
       "4          2.520288e+05       0  \n",
       "...                 ...     ...  \n",
       "640695     4.385285e+06       0  \n",
       "640696     4.077080e+06       0  \n",
       "640697     1.498025e+07       0  \n",
       "640698     3.663955e+06       0  \n",
       "640699     3.060387e+06       0  \n",
       "\n",
       "[640700 rows x 12 columns]"
      ]
     },
     "execution_count": 6,
     "metadata": {},
     "output_type": "execute_result"
    }
   ],
   "source": [
    "# Read from loaded CSV File.\n",
    "path = 'aux_folder/latest_minute'\n",
    "df = pd.read_csv(path)\n",
    "df"
   ]
  },
  {
   "cell_type": "code",
   "execution_count": null,
   "metadata": {},
   "outputs": [],
   "source": [
    "#momentum\n",
    "df['ao'] = ta.momentum.awesome_oscillator(high=df['high'], low=df['low'])\n",
    "df['kama'] = ta.momentum.kama(close=df['close'])\n",
    "df['ppo'] = ta.momentum.ppo(close=df['close'])\n",
    "df['pvo'] = ta.momentum.pvo(volume=df['volume'])\n",
    "df['roc'] = ta.momentum.roc(close=df['close'])\n",
    "df['rsi'] = ta.momentum.rsi(close=df['close'])\n",
    "df['stochrsi'] = ta.momentum.stochrsi(close=df['close'])\n",
    "df['stoch'] = ta.momentum.stoch(close=df['close'], high=df['high'], low=df['low'])\n",
    "df['tsi'] = ta.momentum.tsi(close=df['close'])\n",
    "df['uo'] = ta.momentum.ultimate_oscillator(close=df['close'], high=df['high'], low=df['low'])\n",
    "df['wri'] = ta.momentum.williams_r(close=df['close'], high=df['high'], low=df['low'])\n",
    "\n"
   ]
  },
  {
   "cell_type": "code",
   "execution_count": null,
   "metadata": {},
   "outputs": [],
   "source": [
    "#volume\n",
    "df['accdist']  = ta.volume.acc_dist_index(high=df['high'], low= df['low'],close=df['close'], volume = df['volume'])\n",
    "df['cmf'] = ta.volume.chaikin_money_flow(high=df['high'], low= df['low'],close=df['close'], volume = df['volume'])\n",
    "df['emv'] = ta.volume.ease_of_movement(high=df['high'], low= df['low'], volume = df['volume'])\n",
    "df['fi'] = ta.volume.force_index(close=df['close'], volume=df['volume'])\n",
    "df['mfi'] = ta.volume.money_flow_index(high=df['high'], low= df['low'],close=df['close'], volume = df['volume'])\n",
    "df['nvi'] = ta.volume.negative_volume_index(close=df['close'], volume=df['volume'])\n",
    "df['obv'] = ta.volume.on_balance_volume(close=df['close'], volume=df['volume'])\n",
    "df['smaemv'] = ta.volume.sma_ease_of_movement(high=df['high'], low= df['low'], volume = df['volume'])\n",
    "df['vpt'] = ta.volume.volume_price_trend(close=df['close'], volume = df['volume'])\n",
    "df['vwap'] = ta.volume.volume_weighted_average_price(high=df['high'], low= df['low'],close=df['close'], volume = df['volume'])\n"
   ]
  },
  {
   "cell_type": "code",
   "execution_count": null,
   "metadata": {},
   "outputs": [],
   "source": [
    "# volatility\n",
    "df['atr'] = ta.volatility.average_true_range(high=df['high'], low= df['low'],close=df['close'])\n",
    "df['ulcer'] = ta.volatility.ulcer_index(close=df['close'])\n",
    "\n",
    "df['bbh'] = ta.volatility.bollinger_hband(close=df['close'])\n",
    "df['bbl'] = ta.volatility.bollinger_lband(close=df['close'])\n",
    "df['bbhi'] = ta.volatility.bollinger_hband_indicator(close=df['close'])\n",
    "df['bbli'] = ta.volatility.bollinger_lband_indicator(close=df['close'])\n",
    "df['bbmavg'] = ta.volatility.bollinger_mavg(close=df['close'])\n",
    "df['bb_pb'] = ta.volatility.bollinger_pband(close=df['close'])\n",
    "df['bb_wb'] = ta.volatility.bollinger_wband(close=df['close'])\n",
    "\n",
    "df['dchb'] = ta.volatility.donchian_channel_hband(close=df['close'],high=df['high'],low=df['low'])\n",
    "df['dclb'] = ta.volatility.donchian_channel_lband(close=df['close'],high=df['high'],low=df['low'])\n",
    "df['dcmb'] = ta.volatility.donchian_channel_mband(close=df['close'],high=df['high'],low=df['low'])\n",
    "df['dcpb'] = ta.volatility.donchian_channel_pband(close=df['close'],high=df['high'],low=df['low'])\n",
    "df['dcwb'] = ta.volatility.donchian_channel_wband(close=df['close'],high=df['high'],low=df['low'])\n",
    "\n",
    "df['kchb'] = ta.volatility.keltner_channel_hband(close=df['close'],high=df['high'],low=df['low'])\n",
    "df['kclb'] = ta.volatility.keltner_channel_lband(close=df['close'],high=df['high'],low=df['low'])\n",
    "df['kchbi'] = ta.volatility.keltner_channel_hband_indicator(close=df['close'],high=df['high'],low=df['low'])\n",
    "df['kclbi'] = ta.volatility.keltner_channel_lband_indicator(close=df['close'],high=df['high'],low=df['low'])\n",
    "df['kcmb'] = ta.volatility.keltner_channel_mband(close=df['close'],high=df['high'],low=df['low'])\n",
    "df['kcpb'] = ta.volatility.keltner_channel_pband(close=df['close'],high=df['high'],low=df['low'])\n",
    "df['kcwb'] = ta.volatility.keltner_channel_wband(close=df['close'],high=df['high'],low=df['low'])\n",
    "\n",
    "\n"
   ]
  },
  {
   "cell_type": "code",
   "execution_count": null,
   "metadata": {},
   "outputs": [
    {
     "name": "stderr",
     "output_type": "stream",
     "text": [
      "/Library/Frameworks/Python.framework/Versions/3.8/lib/python3.8/site-packages/ta/trend.py:780: RuntimeWarning: invalid value encountered in scalar divide\n",
      "  dip[idx] = 100 * (self._dip[idx] / value)\n",
      "/Library/Frameworks/Python.framework/Versions/3.8/lib/python3.8/site-packages/ta/trend.py:785: RuntimeWarning: invalid value encountered in scalar divide\n",
      "  din[idx] = 100 * (self._din[idx] / value)\n"
     ]
    }
   ],
   "source": [
    "#trend\n",
    "\n",
    "# En dos de estos tres hay algo que esta botando warning\n",
    "df['adx'] = ta.trend.adx(close=df['close'],high=df['high'],low=df['low'])\n",
    "df['adx_neg'] = ta.trend.adx_neg(close=df['close'],high=df['high'],low=df['low'])\n",
    "df['adx_pos'] = ta.trend.adx_pos(close=df['close'],high=df['high'],low=df['low'])\n",
    "\n",
    "df['aroon_up'] = ta.trend.aroon_up(close=df['close'])\n",
    "df['aroon_down'] = ta.trend.aroon_down(close=df['close'])\n",
    "\n",
    "df['cci'] = ta.trend.cci(close=df['close'],high=df['high'],low=df['low'])\n",
    "df['dpo'] = ta.trend.dpo(close=df['close'])\n",
    "df['kst'] = ta.trend.kst(close=df['close'])\n",
    "df['kst_sig'] = ta.trend.kst_sig(close=df['close'])\n",
    "df['ema'] = ta.trend.ema_indicator(close=df['close'])\n",
    "\n",
    "df['ichimoku_a'] = ta.trend.ichimoku_a(high=df['high'],low=df['low'])\n",
    "df['ichimoku_b'] = ta.trend.ichimoku_b(high=df['high'],low=df['low'])\n",
    "df['ichimoku_base_line'] = ta.trend.ichimoku_base_line(high=df['high'],low=df['low'])\n",
    "df['ichimoku_conversion_line'] = ta.trend.ichimoku_conversion_line(high=df['high'],low=df['low'])\n",
    "\n",
    "df['macd'] = ta.trend.macd(close=df['close'])\n",
    "df['macd_diff'] = ta.trend.macd_diff(close=df['close'])\n",
    "df['macd_signal'] = ta.trend.macd_signal(close=df['close'])\n",
    "\n",
    "df['mi'] = ta.trend.mass_index(high=df['high'],low=df['low'])\n",
    "df['sma'] = ta.trend.sma_indicator(close=df['close'])\n",
    "df['wma'] = ta.trend.wma_indicator(close=df['close'])\n",
    "df['stc'] = ta.trend.stc(close=df['close'])\n",
    "df['trix'] = ta.trend.trix(close=df['close'])\n",
    "\n",
    "df['psar_down'] = ta.trend.psar_down(close=df['close'],high=df['high'],low=df['low'])\n",
    "df['psar_up'] = ta.trend.psar_up(close=df['close'],high=df['high'],low=df['low'])\n",
    "df['psar_down_indicator'] = ta.trend.psar_down_indicator(close=df['close'],high=df['high'],low=df['low'])\n",
    "df['psar_up_indicator'] = ta.trend.psar_up_indicator(close=df['close'],high=df['high'],low=df['low'])\n",
    "\n",
    "df['vi_pos'] = ta.trend.vortex_indicator_pos(close=df['close'],high=df['high'],low=df['low'])\n",
    "df['vi_neg'] = ta.trend.vortex_indicator_neg(close=df['close'],high=df['high'],low=df['low'])\n",
    "\n"
   ]
  },
  {
   "attachments": {},
   "cell_type": "markdown",
   "metadata": {},
   "source": [
    "## Add Date (For adding commodity)"
   ]
  },
  {
   "cell_type": "code",
   "execution_count": null,
   "metadata": {},
   "outputs": [],
   "source": [
    "df['DATE'] = df['datetime']/1000\n",
    "\n",
    "df['DATE'] = df['DATE'].apply(dt.datetime.utcfromtimestamp)\n",
    "\n",
    "df['DATE'] = df['DATE'].dt.strftime(\"%Y-%m-%d\")\n"
   ]
  },
  {
   "attachments": {},
   "cell_type": "markdown",
   "metadata": {},
   "source": [
    "## Add Commodities info\n",
    "\n",
    "We load commodities in the notebook called raw_commodities_loader\n",
    "\n",
    "As we have limited API calls we have to save them separately to avoid calling the API unecesary times"
   ]
  },
  {
   "cell_type": "code",
   "execution_count": null,
   "metadata": {},
   "outputs": [],
   "source": [
    "\n",
    "\n",
    "folder_path = 'commodities'  # Replace with the path to your folder\n",
    "\n",
    "file_names = []\n",
    "\n",
    "# Get all the files in the folder\n",
    "for file_name in os.listdir(folder_path):\n",
    "    # Check that the path is a file (not a directory)\n",
    "    if os.path.isfile(os.path.join(folder_path, file_name)):\n",
    "        # Add the file name to the list\n",
    "        file_names.append(file_name)\n",
    "\n",
    "for commodity in file_names:\n",
    "    \n",
    "    path = 'data/commodities/'+commodity\n",
    "    com_df = pd.read_csv(path)\n",
    "    symbol = com_df.columns[2]\n",
    "    \n",
    "    com_df[symbol] = com_df['USD'] / com_df[symbol] \n",
    "    com_df['DATE'] = com_df['DATE'].astype(str)\n",
    "    com_df.drop(columns=[com_df.columns[0],'USD'], inplace=True)\n",
    "    df = pd.merge(df, com_df, on='DATE', how='left')"
   ]
  },
  {
   "cell_type": "code",
   "execution_count": null,
   "metadata": {},
   "outputs": [
    {
     "ename": "KeyboardInterrupt",
     "evalue": "",
     "output_type": "error",
     "traceback": [
      "\u001b[0;31m---------------------------------------------------------------------------\u001b[0m",
      "\u001b[0;31mKeyboardInterrupt\u001b[0m                         Traceback (most recent call last)",
      "Cell \u001b[0;32mIn[12], line 3\u001b[0m\n\u001b[1;32m      1\u001b[0m \u001b[39m# Save to new CSV\u001b[39;00m\n\u001b[1;32m      2\u001b[0m path \u001b[39m=\u001b[39m \u001b[39m'\u001b[39m\u001b[39mfinal_data/latest_minute\u001b[39m\u001b[39m'\u001b[39m\n\u001b[0;32m----> 3\u001b[0m df\u001b[39m.\u001b[39;49mto_csv(path)\n",
      "File \u001b[0;32m/Library/Frameworks/Python.framework/Versions/3.8/lib/python3.8/site-packages/pandas/util/_decorators.py:211\u001b[0m, in \u001b[0;36mdeprecate_kwarg.<locals>._deprecate_kwarg.<locals>.wrapper\u001b[0;34m(*args, **kwargs)\u001b[0m\n\u001b[1;32m    209\u001b[0m     \u001b[39melse\u001b[39;00m:\n\u001b[1;32m    210\u001b[0m         kwargs[new_arg_name] \u001b[39m=\u001b[39m new_arg_value\n\u001b[0;32m--> 211\u001b[0m \u001b[39mreturn\u001b[39;00m func(\u001b[39m*\u001b[39;49margs, \u001b[39m*\u001b[39;49m\u001b[39m*\u001b[39;49mkwargs)\n",
      "File \u001b[0;32m/Library/Frameworks/Python.framework/Versions/3.8/lib/python3.8/site-packages/pandas/core/generic.py:3720\u001b[0m, in \u001b[0;36mNDFrame.to_csv\u001b[0;34m(self, path_or_buf, sep, na_rep, float_format, columns, header, index, index_label, mode, encoding, compression, quoting, quotechar, lineterminator, chunksize, date_format, doublequote, escapechar, decimal, errors, storage_options)\u001b[0m\n\u001b[1;32m   3709\u001b[0m df \u001b[39m=\u001b[39m \u001b[39mself\u001b[39m \u001b[39mif\u001b[39;00m \u001b[39misinstance\u001b[39m(\u001b[39mself\u001b[39m, ABCDataFrame) \u001b[39melse\u001b[39;00m \u001b[39mself\u001b[39m\u001b[39m.\u001b[39mto_frame()\n\u001b[1;32m   3711\u001b[0m formatter \u001b[39m=\u001b[39m DataFrameFormatter(\n\u001b[1;32m   3712\u001b[0m     frame\u001b[39m=\u001b[39mdf,\n\u001b[1;32m   3713\u001b[0m     header\u001b[39m=\u001b[39mheader,\n\u001b[0;32m   (...)\u001b[0m\n\u001b[1;32m   3717\u001b[0m     decimal\u001b[39m=\u001b[39mdecimal,\n\u001b[1;32m   3718\u001b[0m )\n\u001b[0;32m-> 3720\u001b[0m \u001b[39mreturn\u001b[39;00m DataFrameRenderer(formatter)\u001b[39m.\u001b[39;49mto_csv(\n\u001b[1;32m   3721\u001b[0m     path_or_buf,\n\u001b[1;32m   3722\u001b[0m     lineterminator\u001b[39m=\u001b[39;49mlineterminator,\n\u001b[1;32m   3723\u001b[0m     sep\u001b[39m=\u001b[39;49msep,\n\u001b[1;32m   3724\u001b[0m     encoding\u001b[39m=\u001b[39;49mencoding,\n\u001b[1;32m   3725\u001b[0m     errors\u001b[39m=\u001b[39;49merrors,\n\u001b[1;32m   3726\u001b[0m     compression\u001b[39m=\u001b[39;49mcompression,\n\u001b[1;32m   3727\u001b[0m     quoting\u001b[39m=\u001b[39;49mquoting,\n\u001b[1;32m   3728\u001b[0m     columns\u001b[39m=\u001b[39;49mcolumns,\n\u001b[1;32m   3729\u001b[0m     index_label\u001b[39m=\u001b[39;49mindex_label,\n\u001b[1;32m   3730\u001b[0m     mode\u001b[39m=\u001b[39;49mmode,\n\u001b[1;32m   3731\u001b[0m     chunksize\u001b[39m=\u001b[39;49mchunksize,\n\u001b[1;32m   3732\u001b[0m     quotechar\u001b[39m=\u001b[39;49mquotechar,\n\u001b[1;32m   3733\u001b[0m     date_format\u001b[39m=\u001b[39;49mdate_format,\n\u001b[1;32m   3734\u001b[0m     doublequote\u001b[39m=\u001b[39;49mdoublequote,\n\u001b[1;32m   3735\u001b[0m     escapechar\u001b[39m=\u001b[39;49mescapechar,\n\u001b[1;32m   3736\u001b[0m     storage_options\u001b[39m=\u001b[39;49mstorage_options,\n\u001b[1;32m   3737\u001b[0m )\n",
      "File \u001b[0;32m/Library/Frameworks/Python.framework/Versions/3.8/lib/python3.8/site-packages/pandas/util/_decorators.py:211\u001b[0m, in \u001b[0;36mdeprecate_kwarg.<locals>._deprecate_kwarg.<locals>.wrapper\u001b[0;34m(*args, **kwargs)\u001b[0m\n\u001b[1;32m    209\u001b[0m     \u001b[39melse\u001b[39;00m:\n\u001b[1;32m    210\u001b[0m         kwargs[new_arg_name] \u001b[39m=\u001b[39m new_arg_value\n\u001b[0;32m--> 211\u001b[0m \u001b[39mreturn\u001b[39;00m func(\u001b[39m*\u001b[39;49margs, \u001b[39m*\u001b[39;49m\u001b[39m*\u001b[39;49mkwargs)\n",
      "File \u001b[0;32m/Library/Frameworks/Python.framework/Versions/3.8/lib/python3.8/site-packages/pandas/io/formats/format.py:1189\u001b[0m, in \u001b[0;36mDataFrameRenderer.to_csv\u001b[0;34m(self, path_or_buf, encoding, sep, columns, index_label, mode, compression, quoting, quotechar, lineterminator, chunksize, date_format, doublequote, escapechar, errors, storage_options)\u001b[0m\n\u001b[1;32m   1168\u001b[0m     created_buffer \u001b[39m=\u001b[39m \u001b[39mFalse\u001b[39;00m\n\u001b[1;32m   1170\u001b[0m csv_formatter \u001b[39m=\u001b[39m CSVFormatter(\n\u001b[1;32m   1171\u001b[0m     path_or_buf\u001b[39m=\u001b[39mpath_or_buf,\n\u001b[1;32m   1172\u001b[0m     lineterminator\u001b[39m=\u001b[39mlineterminator,\n\u001b[0;32m   (...)\u001b[0m\n\u001b[1;32m   1187\u001b[0m     formatter\u001b[39m=\u001b[39m\u001b[39mself\u001b[39m\u001b[39m.\u001b[39mfmt,\n\u001b[1;32m   1188\u001b[0m )\n\u001b[0;32m-> 1189\u001b[0m csv_formatter\u001b[39m.\u001b[39;49msave()\n\u001b[1;32m   1191\u001b[0m \u001b[39mif\u001b[39;00m created_buffer:\n\u001b[1;32m   1192\u001b[0m     \u001b[39massert\u001b[39;00m \u001b[39misinstance\u001b[39m(path_or_buf, StringIO)\n",
      "File \u001b[0;32m/Library/Frameworks/Python.framework/Versions/3.8/lib/python3.8/site-packages/pandas/io/formats/csvs.py:261\u001b[0m, in \u001b[0;36mCSVFormatter.save\u001b[0;34m(self)\u001b[0m\n\u001b[1;32m    241\u001b[0m \u001b[39mwith\u001b[39;00m get_handle(\n\u001b[1;32m    242\u001b[0m     \u001b[39mself\u001b[39m\u001b[39m.\u001b[39mfilepath_or_buffer,\n\u001b[1;32m    243\u001b[0m     \u001b[39mself\u001b[39m\u001b[39m.\u001b[39mmode,\n\u001b[0;32m   (...)\u001b[0m\n\u001b[1;32m    249\u001b[0m \n\u001b[1;32m    250\u001b[0m     \u001b[39m# Note: self.encoding is irrelevant here\u001b[39;00m\n\u001b[1;32m    251\u001b[0m     \u001b[39mself\u001b[39m\u001b[39m.\u001b[39mwriter \u001b[39m=\u001b[39m csvlib\u001b[39m.\u001b[39mwriter(\n\u001b[1;32m    252\u001b[0m         handles\u001b[39m.\u001b[39mhandle,\n\u001b[1;32m    253\u001b[0m         lineterminator\u001b[39m=\u001b[39m\u001b[39mself\u001b[39m\u001b[39m.\u001b[39mlineterminator,\n\u001b[0;32m   (...)\u001b[0m\n\u001b[1;32m    258\u001b[0m         quotechar\u001b[39m=\u001b[39m\u001b[39mself\u001b[39m\u001b[39m.\u001b[39mquotechar,\n\u001b[1;32m    259\u001b[0m     )\n\u001b[0;32m--> 261\u001b[0m     \u001b[39mself\u001b[39;49m\u001b[39m.\u001b[39;49m_save()\n",
      "File \u001b[0;32m/Library/Frameworks/Python.framework/Versions/3.8/lib/python3.8/site-packages/pandas/io/formats/csvs.py:266\u001b[0m, in \u001b[0;36mCSVFormatter._save\u001b[0;34m(self)\u001b[0m\n\u001b[1;32m    264\u001b[0m \u001b[39mif\u001b[39;00m \u001b[39mself\u001b[39m\u001b[39m.\u001b[39m_need_to_save_header:\n\u001b[1;32m    265\u001b[0m     \u001b[39mself\u001b[39m\u001b[39m.\u001b[39m_save_header()\n\u001b[0;32m--> 266\u001b[0m \u001b[39mself\u001b[39;49m\u001b[39m.\u001b[39;49m_save_body()\n",
      "File \u001b[0;32m/Library/Frameworks/Python.framework/Versions/3.8/lib/python3.8/site-packages/pandas/io/formats/csvs.py:304\u001b[0m, in \u001b[0;36mCSVFormatter._save_body\u001b[0;34m(self)\u001b[0m\n\u001b[1;32m    302\u001b[0m \u001b[39mif\u001b[39;00m start_i \u001b[39m>\u001b[39m\u001b[39m=\u001b[39m end_i:\n\u001b[1;32m    303\u001b[0m     \u001b[39mbreak\u001b[39;00m\n\u001b[0;32m--> 304\u001b[0m \u001b[39mself\u001b[39;49m\u001b[39m.\u001b[39;49m_save_chunk(start_i, end_i)\n",
      "File \u001b[0;32m/Library/Frameworks/Python.framework/Versions/3.8/lib/python3.8/site-packages/pandas/io/formats/csvs.py:315\u001b[0m, in \u001b[0;36mCSVFormatter._save_chunk\u001b[0;34m(self, start_i, end_i)\u001b[0m\n\u001b[1;32m    312\u001b[0m data \u001b[39m=\u001b[39m [res\u001b[39m.\u001b[39miget_values(i) \u001b[39mfor\u001b[39;00m i \u001b[39min\u001b[39;00m \u001b[39mrange\u001b[39m(\u001b[39mlen\u001b[39m(res\u001b[39m.\u001b[39mitems))]\n\u001b[1;32m    314\u001b[0m ix \u001b[39m=\u001b[39m \u001b[39mself\u001b[39m\u001b[39m.\u001b[39mdata_index[slicer]\u001b[39m.\u001b[39m_format_native_types(\u001b[39m*\u001b[39m\u001b[39m*\u001b[39m\u001b[39mself\u001b[39m\u001b[39m.\u001b[39m_number_format)\n\u001b[0;32m--> 315\u001b[0m libwriters\u001b[39m.\u001b[39;49mwrite_csv_rows(\n\u001b[1;32m    316\u001b[0m     data,\n\u001b[1;32m    317\u001b[0m     ix,\n\u001b[1;32m    318\u001b[0m     \u001b[39mself\u001b[39;49m\u001b[39m.\u001b[39;49mnlevels,\n\u001b[1;32m    319\u001b[0m     \u001b[39mself\u001b[39;49m\u001b[39m.\u001b[39;49mcols,\n\u001b[1;32m    320\u001b[0m     \u001b[39mself\u001b[39;49m\u001b[39m.\u001b[39;49mwriter,\n\u001b[1;32m    321\u001b[0m )\n",
      "File \u001b[0;32m/Library/Frameworks/Python.framework/Versions/3.8/lib/python3.8/site-packages/pandas/_libs/writers.pyx:55\u001b[0m, in \u001b[0;36mpandas._libs.writers.write_csv_rows\u001b[0;34m()\u001b[0m\n",
      "\u001b[0;31mKeyboardInterrupt\u001b[0m: "
     ]
    }
   ],
   "source": []
  },
  {
   "attachments": {},
   "cell_type": "markdown",
   "metadata": {},
   "source": [
    "## Prepare Preprocessing\n",
    "- Delete nulls\n"
   ]
  },
  {
   "cell_type": "code",
   "execution_count": null,
   "metadata": {},
   "outputs": [],
   "source": [
    "commodities = [\n",
    " 'ALU',\n",
    " 'CANO',\n",
    " 'WHEAT',\n",
    " 'XCU',\n",
    " 'BRENTOIL',\n",
    " 'COFFEE',\n",
    " 'SOYBEAN',\n",
    " 'ROBUSTA',\n",
    " 'NG',\n",
    " 'NI',\n",
    " 'RICE',\n",
    " 'OAT',\n",
    " 'XAU',\n",
    " 'COCOA',\n",
    " 'IRD',\n",
    " 'SUGAR',\n",
    " 'ETHANOL',\n",
    " 'CORN',\n",
    " 'RUBBER',\n",
    " 'COTTON',\n",
    " 'TIN',\n",
    " 'ZNC']"
   ]
  },
  {
   "cell_type": "code",
   "execution_count": null,
   "metadata": {},
   "outputs": [
    {
     "data": {
      "text/plain": [
       "['psar_down', 'psar_up']"
      ]
     },
     "execution_count": 14,
     "metadata": {},
     "output_type": "execute_result"
    }
   ],
   "source": [
    "c = df.datetime.count()\n",
    "\n",
    "tddf = df.describe().transpose()\n",
    "\n",
    "tddf['null_flag'] = tddf['count'] < c\n",
    "tddf['nnull_share'] = tddf['count']/c\n",
    "\n",
    "tddf.sort_values(by='nnull_share').head(30)\n",
    "\n",
    "to_drop = tddf[tddf['nnull_share'] < 0.95].index.tolist()\n",
    "to_drop"
   ]
  },
  {
   "cell_type": "code",
   "execution_count": null,
   "metadata": {},
   "outputs": [
    {
     "ename": "NameError",
     "evalue": "name 'commodities' is not defined",
     "output_type": "error",
     "traceback": [
      "\u001b[0;31m---------------------------------------------------------------------------\u001b[0m",
      "\u001b[0;31mNameError\u001b[0m                                 Traceback (most recent call last)",
      "Cell \u001b[0;32mIn[15], line 1\u001b[0m\n\u001b[0;32m----> 1\u001b[0m \u001b[39mfor\u001b[39;00m element \u001b[39min\u001b[39;00m commodities:\n\u001b[1;32m      2\u001b[0m     df[element] \u001b[39m=\u001b[39m df[element]\u001b[39m.\u001b[39mfillna(method\u001b[39m=\u001b[39m\u001b[39m'\u001b[39m\u001b[39mffill\u001b[39m\u001b[39m'\u001b[39m)\n",
      "\u001b[0;31mNameError\u001b[0m: name 'commodities' is not defined"
     ]
    }
   ],
   "source": [
    "for element in commodities:\n",
    "    df[element] = df[element].fillna(method='ffill')\n"
   ]
  },
  {
   "cell_type": "code",
   "execution_count": null,
   "metadata": {},
   "outputs": [],
   "source": [
    "df.drop(columns=to_drop, inplace=True)"
   ]
  },
  {
   "cell_type": "code",
   "execution_count": null,
   "metadata": {},
   "outputs": [],
   "source": [
    "#df = df_copy.copy()\n",
    "df_with_nulls = df[df.isnull().any(axis=1)]\n",
    "\n",
    "df_with_nulls\n",
    "#print(day)"
   ]
  },
  {
   "cell_type": "code",
   "execution_count": null,
   "metadata": {},
   "outputs": [],
   "source": [
    "df = df.dropna()\n",
    "df"
   ]
  },
  {
   "cell_type": "code",
   "execution_count": null,
   "metadata": {},
   "outputs": [],
   "source": [
    "# Save to new CSV\n",
    "path = 'final_data/latest_minute'\n",
    "df.to_csv(path)"
   ]
  },
  {
   "cell_type": "code",
   "execution_count": null,
   "metadata": {},
   "outputs": [],
   "source": []
  }
 ],
 "metadata": {
  "kernelspec": {
   "display_name": "Python 3",
   "language": "python",
   "name": "python3"
  },
  "language_info": {
   "codemirror_mode": {
    "name": "ipython",
    "version": 3
   },
   "file_extension": ".py",
   "mimetype": "text/x-python",
   "name": "python",
   "nbconvert_exporter": "python",
   "pygments_lexer": "ipython3",
   "version": "3.9.12"
  },
  "orig_nbformat": 4,
  "vscode": {
   "interpreter": {
    "hash": "aee8b7b246df8f9039afb4144a1f6fd8d2ca17a180786b69acc140d282b71a49"
   }
  }
 },
 "nbformat": 4,
 "nbformat_minor": 2
}
