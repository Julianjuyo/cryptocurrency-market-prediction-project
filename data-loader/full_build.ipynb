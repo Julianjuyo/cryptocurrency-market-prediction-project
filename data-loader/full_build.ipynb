{
 "cells": [
  {
   "cell_type": "code",
   "execution_count": 1,
   "metadata": {},
   "outputs": [],
   "source": [
    "import binance_extract\n",
    "import datetime as dt\n",
    "import ta\n",
    "import pandas as pd\n",
    "import numpy as np\n",
    "import datetime as dt\n",
    "import requests\n",
    "import os\n",
    "import json\n"
   ]
  },
  {
   "cell_type": "code",
   "execution_count": 2,
   "metadata": {},
   "outputs": [],
   "source": [
    "#To know if im in a docker enviroment or not\n",
    "ON_DOCKER = os.environ.get('ON_DOCKER', False)\n",
    "\n",
    "if ON_DOCKER:\n",
    "    base_url = \"http://fastapi:5000/\"\n",
    "else:\n",
    "    base_url = \"http://0.0.0.0:5000/\"\n",
    "\n",
    "ASSET_ID = \"17679155-31be-407a-9808-b4f0b4d44955\"   \n",
    "\n",
    "BINANCE_URL = 'https://api.binance.com/api/v3/klines'\n"
   ]
  },
  {
   "cell_type": "code",
   "execution_count": 3,
   "metadata": {},
   "outputs": [],
   "source": [
    "\n",
    "\n",
    "# Method to make API request to retrieve the last recorded price timestamp for a given asset ID\n",
    "def api_request_last_time_stamp_from_asset_id(base_url, asset_id):\n",
    "    try:\n",
    "        # Make GET request to API endpoint\n",
    "        response = requests.get(base_url + \"assets/\" + asset_id + \"/last_price/\")\n",
    "\n",
    "        # Check if the request was successful\n",
    "        if response.status_code == requests.codes.ok:\n",
    "            print(response.status_code)\n",
    "            # Convert JSON response to Python dictionary\n",
    "            json_data = json.loads(response.content)\n",
    "            # Normalize the dictionary and convert it to a Pandas DataFrame\n",
    "            df = pd.json_normalize(json_data)\n",
    "            # Return the Unix timestamp of the last recorded price for the specified asset ID\n",
    "            return df['unix_time'].iloc[0]\n",
    "        else:\n",
    "            print(response.content)\n",
    "        \n",
    "    except:\n",
    "        print(\"Failed api_request_last_time_stamp_from_asset_id\")\n",
    "\n",
    "# Method to make API request to retrieve prices for a given asset ID between two specified Unix timestamps\n",
    "def api_request_get_prices_between_unix_time(base_url, asset_id, unix_time_start, unix_time_end):\n",
    "    try:\n",
    "        # Make GET request to API endpoint with query parameters for start and end Unix timestamps\n",
    "        response = requests.get(base_url + \"assets/\" + asset_id + \"/indicators_unix_between/\", params={'unix_time_start': unix_time_start, 'unix_time_end': unix_time_end})\n",
    "\n",
    "        # Check if the request was successful\n",
    "        if response.status_code == requests.codes.ok:\n",
    "            print(response.status_code)\n",
    "            # Convert JSON response to Python dictionary\n",
    "            json_data = json.loads(response.content)\n",
    "            # Normalize the dictionary and convert it to a Pandas DataFrame\n",
    "            df = pd.json_normalize(json_data)\n",
    "            # Return the DataFrame containing the retrieved price data\n",
    "            return df\n",
    "        else:\n",
    "            print(response.content)\n",
    "        \n",
    "    except:\n",
    "        print(\"Failed api_request_get_prices_between_unix_time\")\n",
    "\n",
    "# Method to make a POST request to the specified API endpoint with a JSON payload\n",
    "def post_method(url_path, data_dict):\n",
    "    # Convert the dictionary to a JSON string using the `json` module\n",
    "    json_payload = json.dumps(data_dict)\n",
    "    try:\n",
    "        # Send the POST request with the JSON payload\n",
    "        response = requests.post(url_path, data=json_payload)\n",
    "\n",
    "        # Check if the request was successful\n",
    "        if response.status_code == requests.codes.created:\n",
    "            # If successful, print the response content and convert it to a Pandas DataFrame\n",
    "            print(response.content)\n",
    "            json_data = json.loads(response.content)\n",
    "            df = pd.json_normalize(json_data)\n",
    "            return df\n",
    "        else:\n",
    "            # If unsuccessful, print the response content\n",
    "            print(response.content)\n",
    "    except:\n",
    "        # If an exception occurs, print an error message\n",
    "        print(\"Failed to make request\")\n",
    "\n",
    "# Method to create a new price for a given asset ID\n",
    "def create_price_to_asset_id(base_url, asset_id, data_dict):\n",
    "    # Call the `post_method` function with the appropriate URL and data dictionary\n",
    "    return post_method(base_url + \"assets/\" + asset_id + \"/prices/\", data_dict)\n",
    "\n",
    "# Method to create a new indicator for a given price ID\n",
    "def create_indicator_to_price_id(base_url, price_id, data_dict):\n",
    "    # Call the `post_method` function with the appropriate URL and data dictionary\n",
    "    return post_method(base_url + \"prices/\" + price_id + \"/indicators/\", data_dict)\n"
   ]
  },
  {
   "cell_type": "code",
   "execution_count": 4,
   "metadata": {},
   "outputs": [
    {
     "name": "stdout",
     "output_type": "stream",
     "text": [
      "Failed api_request_last_time_stamp_from_asset_id\n"
     ]
    }
   ],
   "source": [
    "last_timestamp= api_request_last_time_stamp_from_asset_id(base_url,ASSET_ID)\n",
    "last_timestamp"
   ]
  },
  {
   "cell_type": "code",
   "execution_count": 5,
   "metadata": {},
   "outputs": [
    {
     "name": "stdout",
     "output_type": "stream",
     "text": [
      "Failed api_request_get_prices_between_unix_time\n"
     ]
    }
   ],
   "source": [
    "df_times= api_request_get_prices_between_unix_time(base_url,ASSET_ID,1673310,16733168499)\n",
    "df_times"
   ]
  },
  {
   "cell_type": "code",
   "execution_count": 6,
   "metadata": {},
   "outputs": [
    {
     "name": "stdout",
     "output_type": "stream",
     "text": [
      "Failed to make request\n"
     ]
    }
   ],
   "source": [
    "# Define the JSON payload as a Python dictionary\n",
    "data_dict = {\n",
    "  \"unix_time\": \"16733184\",\n",
    "  \"open_price\": \"20000\",\n",
    "  \"close_price\": \"22000\",\n",
    "  \"low_price\": \"19500\",\n",
    "  \"high_price\": \"22500\",\n",
    "  \"volume\": \"72372787812\",\n",
    "  \"qav\": \"10\",\n",
    "  \"num_trades\": \"10\",\n",
    "  \"taker_base_vol\": \"10\",\n",
    "  \"taker_quote_vol\": \"10\",\n",
    "  \"ignore\": \"10\"\n",
    "}\n",
    "\n",
    "df2 = create_price_to_asset_id(base_url,ASSET_ID,data_dict)\n"
   ]
  },
  {
   "cell_type": "code",
   "execution_count": 7,
   "metadata": {},
   "outputs": [
    {
     "name": "stdout",
     "output_type": "stream",
     "text": [
      "Failed to make request\n"
     ]
    }
   ],
   "source": [
    "# Define the JSON payload as a Python dictionary\n",
    "data_dict = {\n",
    "  \"name\": \"RSIe\",\n",
    "  \"value\": \"12212\",\n",
    "  \"unix_time\": \"1641013202\"\n",
    "}\n",
    "\n",
    "df2 = create_indicator_to_price_id(base_url,\"e4f0b3e7-9343-4986-a5e6-5ee429b3997b\",data_dict)"
   ]
  },
  {
   "cell_type": "code",
   "execution_count": 8,
   "metadata": {},
   "outputs": [],
   "source": [
    "df = pd.read_csv(\"aux_folder/latest_minute.csv\")\n"
   ]
  },
  {
   "cell_type": "code",
   "execution_count": 9,
   "metadata": {},
   "outputs": [],
   "source": [
    "df = df.drop(\"close_time\", axis=1)"
   ]
  },
  {
   "cell_type": "code",
   "execution_count": 10,
   "metadata": {},
   "outputs": [
    {
     "data": {
      "text/html": [
       "<div>\n",
       "<style scoped>\n",
       "    .dataframe tbody tr th:only-of-type {\n",
       "        vertical-align: middle;\n",
       "    }\n",
       "\n",
       "    .dataframe tbody tr th {\n",
       "        vertical-align: top;\n",
       "    }\n",
       "\n",
       "    .dataframe thead th {\n",
       "        text-align: right;\n",
       "    }\n",
       "</style>\n",
       "<table border=\"1\" class=\"dataframe\">\n",
       "  <thead>\n",
       "    <tr style=\"text-align: right;\">\n",
       "      <th></th>\n",
       "      <th>unix_time</th>\n",
       "      <th>open_price</th>\n",
       "      <th>high_price</th>\n",
       "      <th>low_price</th>\n",
       "      <th>close_price</th>\n",
       "      <th>volume</th>\n",
       "      <th>qav</th>\n",
       "      <th>num_trades</th>\n",
       "      <th>taker_base_vol</th>\n",
       "      <th>taker_quote_vol</th>\n",
       "      <th>ignore</th>\n",
       "    </tr>\n",
       "  </thead>\n",
       "  <tbody>\n",
       "    <tr>\n",
       "      <th>0</th>\n",
       "      <td>1641013202</td>\n",
       "      <td>46711.05</td>\n",
       "      <td>46740.56</td>\n",
       "      <td>46699.53</td>\n",
       "      <td>46740.55</td>\n",
       "      <td>12.71732</td>\n",
       "      <td>594022.681972</td>\n",
       "      <td>502</td>\n",
       "      <td>7.52260</td>\n",
       "      <td>351396.029446</td>\n",
       "      <td>0</td>\n",
       "    </tr>\n",
       "    <tr>\n",
       "      <th>1</th>\n",
       "      <td>1641013260</td>\n",
       "      <td>46740.56</td>\n",
       "      <td>46749.13</td>\n",
       "      <td>46725.72</td>\n",
       "      <td>46730.95</td>\n",
       "      <td>7.06492</td>\n",
       "      <td>330203.746976</td>\n",
       "      <td>295</td>\n",
       "      <td>3.89782</td>\n",
       "      <td>182185.587459</td>\n",
       "      <td>0</td>\n",
       "    </tr>\n",
       "    <tr>\n",
       "      <th>2</th>\n",
       "      <td>1641013320000</td>\n",
       "      <td>46730.95</td>\n",
       "      <td>46731.86</td>\n",
       "      <td>46715.00</td>\n",
       "      <td>46717.02</td>\n",
       "      <td>4.76270</td>\n",
       "      <td>222528.096882</td>\n",
       "      <td>328</td>\n",
       "      <td>2.28774</td>\n",
       "      <td>106889.770718</td>\n",
       "      <td>0</td>\n",
       "    </tr>\n",
       "  </tbody>\n",
       "</table>\n",
       "</div>"
      ],
      "text/plain": [
       "       unix_time  open_price  high_price  low_price  close_price    volume  \\\n",
       "0     1641013202    46711.05    46740.56   46699.53     46740.55  12.71732   \n",
       "1     1641013260    46740.56    46749.13   46725.72     46730.95   7.06492   \n",
       "2  1641013320000    46730.95    46731.86   46715.00     46717.02   4.76270   \n",
       "\n",
       "             qav  num_trades  taker_base_vol  taker_quote_vol  ignore  \n",
       "0  594022.681972         502         7.52260    351396.029446       0  \n",
       "1  330203.746976         295         3.89782    182185.587459       0  \n",
       "2  222528.096882         328         2.28774    106889.770718       0  "
      ]
     },
     "execution_count": 10,
     "metadata": {},
     "output_type": "execute_result"
    }
   ],
   "source": [
    "\n",
    "df.head(3)"
   ]
  },
  {
   "cell_type": "code",
   "execution_count": 11,
   "metadata": {},
   "outputs": [
    {
     "name": "stdout",
     "output_type": "stream",
     "text": [
      "Failed to make request\n",
      "None\n",
      "{'unix_time': 1641013202.0, 'open_price': 46711.05, 'high_price': 46740.56, 'low_price': 46699.53, 'close_price': 46740.55, 'volume': 12.71732, 'qav': 594022.6819719, 'num_trades': 502.0, 'taker_base_vol': 7.5226, 'taker_quote_vol': 351396.0294457, 'ignore': 0.0}\n"
     ]
    }
   ],
   "source": [
    "coun =0\n",
    "\n",
    "# loop through all rows and convert each row to a JSON object\n",
    "for index, row in df.iterrows():\n",
    "    if coun ==1:\n",
    "        break\n",
    "    \n",
    "    row_dict = row.to_dict()\n",
    "\n",
    "    resp = create_price_to_asset_id(base_url,ASSET_ID,row_dict)\n",
    "\n",
    "    print(resp)\n",
    "\n",
    " \n",
    "    coun=coun+1\n",
    "    print(row_dict)  # or do something else with the JSON object"
   ]
  },
  {
   "cell_type": "code",
   "execution_count": 12,
   "metadata": {},
   "outputs": [
    {
     "ename": "AttributeError",
     "evalue": "'NoneType' object has no attribute 'head'",
     "output_type": "error",
     "traceback": [
      "\u001b[0;31m---------------------------------------------------------------------------\u001b[0m",
      "\u001b[0;31mAttributeError\u001b[0m                            Traceback (most recent call last)",
      "Cell \u001b[0;32mIn[12], line 1\u001b[0m\n\u001b[0;32m----> 1\u001b[0m resp\u001b[39m.\u001b[39;49mhead(\u001b[39m2\u001b[39m)\n",
      "\u001b[0;31mAttributeError\u001b[0m: 'NoneType' object has no attribute 'head'"
     ]
    }
   ],
   "source": [
    "resp.head(2)"
   ]
  },
  {
   "cell_type": "code",
   "execution_count": null,
   "metadata": {},
   "outputs": [],
   "source": [
    "\n",
    "def get_data_from_api(\n",
    "    filename:str\n",
    "    , symbol:str\n",
    "    , initial_date:dt.datetime\n",
    "    , limit_date:dt.datetime = dt.datetime.now()): \n",
    "\n",
    "    \"\"\" This function get the information from binance API\n",
    "    \"\"\"\n",
    "\n",
    "    counter = 0 \n",
    "\n",
    "\n",
    "\n",
    "\n"
   ]
  },
  {
   "cell_type": "code",
   "execution_count": null,
   "metadata": {},
   "outputs": [],
   "source": [
    "get_data_from_api("
   ]
  }
 ],
 "metadata": {
  "kernelspec": {
   "display_name": "env",
   "language": "python",
   "name": "python3"
  },
  "language_info": {
   "codemirror_mode": {
    "name": "ipython",
    "version": 3
   },
   "file_extension": ".py",
   "mimetype": "text/x-python",
   "name": "python",
   "nbconvert_exporter": "python",
   "pygments_lexer": "ipython3",
   "version": "3.9.12"
  },
  "orig_nbformat": 4
 },
 "nbformat": 4,
 "nbformat_minor": 2
}
