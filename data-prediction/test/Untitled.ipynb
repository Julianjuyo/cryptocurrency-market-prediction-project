{
 "cells": [
  {
   "cell_type": "code",
   "execution_count": null,
   "id": "dc3dcf89-2739-439e-8d30-3c3a7de2fc66",
   "metadata": {},
   "outputs": [],
   "source": []
  },
  {
   "cell_type": "code",
   "execution_count": 4,
   "id": "6dea6798-5f69-4ac7-807e-d39ec487fefe",
   "metadata": {},
   "outputs": [
    {
     "name": "stdout",
     "output_type": "stream",
     "text": [
      "Collecting https://github.com/ydataai/ydata-profiling/archive/master.zip\n",
      "  Using cached https://github.com/ydataai/ydata-profiling/archive/master.zip\n",
      "  Preparing metadata (setup.py) ... \u001b[?25ldone\n",
      "\u001b[?25hCollecting scipy<1.10,>=1.4.1\n",
      "  Using cached scipy-1.9.3-cp311-cp311-manylinux_2_17_x86_64.manylinux2014_x86_64.whl (33.4 MB)\n",
      "Requirement already satisfied: pandas!=1.4.0,<1.6,>1.1 in /home/estudiante/miniconda3/envs/project_v0/lib/python3.11/site-packages (from ydata-profiling==0.0.dev0) (1.5.3)\n",
      "Collecting matplotlib<3.7,>=3.2\n",
      "  Using cached matplotlib-3.6.3-cp311-cp311-manylinux_2_17_x86_64.manylinux2014_x86_64.whl (11.8 MB)\n",
      "Requirement already satisfied: pydantic<1.11,>=1.8.1 in /home/estudiante/miniconda3/envs/project_v0/lib/python3.11/site-packages (from ydata-profiling==0.0.dev0) (1.10.5)\n",
      "Requirement already satisfied: PyYAML<6.1,>=5.0.0 in /home/estudiante/miniconda3/envs/project_v0/lib/python3.11/site-packages (from ydata-profiling==0.0.dev0) (6.0)\n",
      "Requirement already satisfied: jinja2<3.2,>=2.11.1 in /home/estudiante/miniconda3/envs/project_v0/lib/python3.11/site-packages (from ydata-profiling==0.0.dev0) (3.1.2)\n",
      "Collecting visions[type_image_path]==0.7.5\n",
      "  Using cached visions-0.7.5-py3-none-any.whl (102 kB)\n",
      "Requirement already satisfied: numpy<1.24,>=1.16.0 in /home/estudiante/miniconda3/envs/project_v0/lib/python3.11/site-packages (from ydata-profiling==0.0.dev0) (1.23.5)\n",
      "Requirement already satisfied: htmlmin==0.1.12 in /home/estudiante/miniconda3/envs/project_v0/lib/python3.11/site-packages (from ydata-profiling==0.0.dev0) (0.1.12)\n",
      "Requirement already satisfied: phik<0.13,>=0.11.1 in /home/estudiante/miniconda3/envs/project_v0/lib/python3.11/site-packages (from ydata-profiling==0.0.dev0) (0.12.3)\n",
      "Requirement already satisfied: requests<2.29,>=2.24.0 in /home/estudiante/miniconda3/envs/project_v0/lib/python3.11/site-packages (from ydata-profiling==0.0.dev0) (2.28.2)\n",
      "Requirement already satisfied: tqdm<4.65,>=4.48.2 in /home/estudiante/miniconda3/envs/project_v0/lib/python3.11/site-packages (from ydata-profiling==0.0.dev0) (4.64.1)\n",
      "Requirement already satisfied: seaborn<0.13,>=0.10.1 in /home/estudiante/miniconda3/envs/project_v0/lib/python3.11/site-packages (from ydata-profiling==0.0.dev0) (0.12.2)\n",
      "Requirement already satisfied: multimethod<1.10,>=1.4 in /home/estudiante/miniconda3/envs/project_v0/lib/python3.11/site-packages (from ydata-profiling==0.0.dev0) (1.9.1)\n",
      "Collecting statsmodels<0.14,>=0.13.2\n",
      "  Using cached statsmodels-0.13.5-cp311-cp311-manylinux_2_17_x86_64.manylinux2014_x86_64.whl (9.9 MB)\n",
      "Collecting typeguard<2.14,>=2.13.2\n",
      "  Using cached typeguard-2.13.3-py3-none-any.whl (17 kB)\n",
      "\u001b[31mERROR: Package 'ydata-profiling' requires a different Python: 3.11.0 not in '<3.11,>=3.7'\u001b[0m\u001b[31m\n",
      "\u001b[0mNote: you may need to restart the kernel to use updated packages.\n"
     ]
    }
   ],
   "source": [
    "pip install https://github.com/ydataai/ydata-profiling/archive/master.zip"
   ]
  }
 ],
 "metadata": {
  "kernelspec": {
   "display_name": "Python [conda env:project_v0] *",
   "language": "python",
   "name": "conda-env-project_v0-py"
  },
  "language_info": {
   "codemirror_mode": {
    "name": "ipython",
    "version": 3
   },
   "file_extension": ".py",
   "mimetype": "text/x-python",
   "name": "python",
   "nbconvert_exporter": "python",
   "pygments_lexer": "ipython3",
   "version": "3.11.0"
  }
 },
 "nbformat": 4,
 "nbformat_minor": 5
}
